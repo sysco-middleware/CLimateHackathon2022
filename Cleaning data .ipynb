{
 "cells": [
  {
   "cell_type": "code",
   "execution_count": 43,
   "id": "0bfc5b32",
   "metadata": {},
   "outputs": [
    {
     "name": "stdout",
     "output_type": "stream",
     "text": [
      "INFO: Pandarallel will run on 4 workers.\n",
      "INFO: Pandarallel will use standard multiprocessing data transfer (pipe) to transfer data between the main process and workers.\n"
     ]
    }
   ],
   "source": [
    "import pandas as pd\n",
    "import glob\n",
    "import json \n",
    "import numpy as np\n",
    "from pandarallel import pandarallel\n",
    "import requests\n",
    "# Initialization\n",
    "pandarallel.initialize(nb_workers=4, use_memory_fs=False)\n",
    "import matplotlib.pyplot as plt\n",
    "\n",
    "pd.options.display.width = 150"
   ]
  },
  {
   "cell_type": "code",
   "execution_count": 2,
   "id": "7d126156",
   "metadata": {},
   "outputs": [],
   "source": [
    "GOOGLE_API= \"\"\n",
    "with open(\"Google_api_key.txt\", 'r') as f:\n",
    "            # It's assumed our file contains a single line,\n",
    "            # with our API key\n",
    "            GOOGLE_API = f.read().strip()"
   ]
  },
  {
   "cell_type": "markdown",
   "id": "8bbc3044",
   "metadata": {},
   "source": [
    "### Concatenante the data \n",
    "from the Logic App workflow, we get several json file, hence need to concatenate all together"
   ]
  },
  {
   "cell_type": "code",
   "execution_count": 3,
   "id": "cf8338c9",
   "metadata": {},
   "outputs": [],
   "source": [
    "# concatenate the json files\n",
    "\n",
    "df = pd.read_json('./Data/WithCoordinates_Finnyeardata_WholeNorway/WithCoordinates_1987_Finnyeardata_WholeNorway_1987_label_7.json')"
   ]
  },
  {
   "cell_type": "code",
   "execution_count": 41,
   "id": "f2f16e2d",
   "metadata": {},
   "outputs": [
    {
     "data": {
      "text/html": [
       "<div>\n",
       "<style scoped>\n",
       "    .dataframe tbody tr th:only-of-type {\n",
       "        vertical-align: middle;\n",
       "    }\n",
       "\n",
       "    .dataframe tbody tr th {\n",
       "        vertical-align: top;\n",
       "    }\n",
       "\n",
       "    .dataframe thead th {\n",
       "        text-align: right;\n",
       "    }\n",
       "</style>\n",
       "<table border=\"1\" class=\"dataframe\">\n",
       "  <thead>\n",
       "    <tr style=\"text-align: right;\">\n",
       "      <th></th>\n",
       "      <th>Location</th>\n",
       "      <th>ad_id</th>\n",
       "      <th>ad_link</th>\n",
       "      <th>energy_label</th>\n",
       "      <th>lat</th>\n",
       "      <th>lon</th>\n",
       "      <th>property_type_description</th>\n",
       "      <th>size_from</th>\n",
       "      <th>type</th>\n",
       "      <th>byggear_cat</th>\n",
       "      <th>ownership_cat</th>\n",
       "      <th>lat,lon</th>\n",
       "    </tr>\n",
       "  </thead>\n",
       "  <tbody>\n",
       "    <tr>\n",
       "      <th>0</th>\n",
       "      <td>Olsvikåsen 132, Olsvik</td>\n",
       "      <td>261320756</td>\n",
       "      <td>https://www.finn.no/realestate/homes/ad.html?f...</td>\n",
       "      <td>5</td>\n",
       "      <td>60.38086</td>\n",
       "      <td>5.22157</td>\n",
       "      <td>Leilighet</td>\n",
       "      <td>47.0</td>\n",
       "      <td>realestate</td>\n",
       "      <td>1</td>\n",
       "      <td>2</td>\n",
       "      <td>60.38086,5.22157</td>\n",
       "    </tr>\n",
       "    <tr>\n",
       "      <th>1</th>\n",
       "      <td>Hans Haslums Vei 33, Bekkestua</td>\n",
       "      <td>261047389</td>\n",
       "      <td>https://www.finn.no/realestate/homes/ad.html?f...</td>\n",
       "      <td>5</td>\n",
       "      <td>59.91960</td>\n",
       "      <td>10.57280</td>\n",
       "      <td>Enebolig</td>\n",
       "      <td>359.0</td>\n",
       "      <td>realestate</td>\n",
       "      <td>1</td>\n",
       "      <td>1</td>\n",
       "      <td>59.9196,10.5728</td>\n",
       "    </tr>\n",
       "    <tr>\n",
       "      <th>2</th>\n",
       "      <td>Oskarbakken 21, Mo i Rana</td>\n",
       "      <td>260995104</td>\n",
       "      <td>https://www.finn.no/realestate/homes/ad.html?f...</td>\n",
       "      <td>5</td>\n",
       "      <td>66.29020</td>\n",
       "      <td>14.09350</td>\n",
       "      <td>Enebolig</td>\n",
       "      <td>153.0</td>\n",
       "      <td>realestate</td>\n",
       "      <td>1</td>\n",
       "      <td>1</td>\n",
       "      <td>66.2902,14.0935</td>\n",
       "    </tr>\n",
       "    <tr>\n",
       "      <th>3</th>\n",
       "      <td>Sandalssvingen 7, Stavanger</td>\n",
       "      <td>260891920</td>\n",
       "      <td>https://www.finn.no/realestate/homes/ad.html?f...</td>\n",
       "      <td>5</td>\n",
       "      <td>58.95740</td>\n",
       "      <td>5.68380</td>\n",
       "      <td>Leilighet</td>\n",
       "      <td>47.0</td>\n",
       "      <td>realestate</td>\n",
       "      <td>1</td>\n",
       "      <td>2</td>\n",
       "      <td>58.9574,5.6838</td>\n",
       "    </tr>\n",
       "    <tr>\n",
       "      <th>4</th>\n",
       "      <td>Midtåstunet 8, Førde</td>\n",
       "      <td>260886553</td>\n",
       "      <td>https://www.finn.no/realestate/homes/ad.html?f...</td>\n",
       "      <td>5</td>\n",
       "      <td>61.45764</td>\n",
       "      <td>5.90090</td>\n",
       "      <td>Rekkehus</td>\n",
       "      <td>99.0</td>\n",
       "      <td>realestate</td>\n",
       "      <td>1</td>\n",
       "      <td>2</td>\n",
       "      <td>61.45764,5.9009</td>\n",
       "    </tr>\n",
       "  </tbody>\n",
       "</table>\n",
       "</div>"
      ],
      "text/plain": [
       "                         Location      ad_id                                            ad_link  \\\n",
       "0          Olsvikåsen 132, Olsvik  261320756  https://www.finn.no/realestate/homes/ad.html?f...   \n",
       "1  Hans Haslums Vei 33, Bekkestua  261047389  https://www.finn.no/realestate/homes/ad.html?f...   \n",
       "2       Oskarbakken 21, Mo i Rana  260995104  https://www.finn.no/realestate/homes/ad.html?f...   \n",
       "3     Sandalssvingen 7, Stavanger  260891920  https://www.finn.no/realestate/homes/ad.html?f...   \n",
       "4            Midtåstunet 8, Førde  260886553  https://www.finn.no/realestate/homes/ad.html?f...   \n",
       "\n",
       "   energy_label       lat       lon property_type_description  size_from        type  byggear_cat  \\\n",
       "0             5  60.38086   5.22157                 Leilighet       47.0  realestate            1   \n",
       "1             5  59.91960  10.57280                  Enebolig      359.0  realestate            1   \n",
       "2             5  66.29020  14.09350                  Enebolig      153.0  realestate            1   \n",
       "3             5  58.95740   5.68380                 Leilighet       47.0  realestate            1   \n",
       "4             5  61.45764   5.90090                  Rekkehus       99.0  realestate            1   \n",
       "\n",
       "   ownership_cat           lat,lon  \n",
       "0              2  60.38086,5.22157  \n",
       "1              1   59.9196,10.5728  \n",
       "2              1   66.2902,14.0935  \n",
       "3              2    58.9574,5.6838  \n",
       "4              2   61.45764,5.9009  "
      ]
     },
     "execution_count": 41,
     "metadata": {},
     "output_type": "execute_result"
    }
   ],
   "source": [
    "df.head()"
   ]
  },
  {
   "cell_type": "code",
   "execution_count": 5,
   "id": "1a86da92",
   "metadata": {},
   "outputs": [],
   "source": [
    "data = []\n",
    "\n",
    "for f in glob.glob(\"./Data/WithCoordinates_Finnyeardata_WholeNorway/*.json\"):\n",
    "\n",
    "    with open(f,) as infile:\n",
    "\n",
    "        data.extend(json.load(infile))\n",
    "\n",
    "\n",
    "with open(\"merged_file.json\",'w') as outfile:\n",
    "\n",
    "    json.dump(data, outfile)\n",
    "\n"
   ]
  },
  {
   "cell_type": "code",
   "execution_count": 6,
   "id": "abc86cc7",
   "metadata": {},
   "outputs": [
    {
     "data": {
      "text/plain": [
       "6961"
      ]
     },
     "execution_count": 6,
     "metadata": {},
     "output_type": "execute_result"
    }
   ],
   "source": [
    "len(data)"
   ]
  },
  {
   "cell_type": "markdown",
   "id": "b632d230",
   "metadata": {},
   "source": [
    "### Data Cleaning"
   ]
  },
  {
   "cell_type": "code",
   "execution_count": 7,
   "id": "b77c40cd",
   "metadata": {},
   "outputs": [],
   "source": [
    "df = pd.DataFrame(data)"
   ]
  },
  {
   "cell_type": "code",
   "execution_count": 8,
   "id": "5d18b916",
   "metadata": {},
   "outputs": [
    {
     "data": {
      "text/html": [
       "<div>\n",
       "<style scoped>\n",
       "    .dataframe tbody tr th:only-of-type {\n",
       "        vertical-align: middle;\n",
       "    }\n",
       "\n",
       "    .dataframe tbody tr th {\n",
       "        vertical-align: top;\n",
       "    }\n",
       "\n",
       "    .dataframe thead th {\n",
       "        text-align: right;\n",
       "    }\n",
       "</style>\n",
       "<table border=\"1\" class=\"dataframe\">\n",
       "  <thead>\n",
       "    <tr style=\"text-align: right;\">\n",
       "      <th></th>\n",
       "      <th>Location</th>\n",
       "      <th>ad_id</th>\n",
       "      <th>ad_link</th>\n",
       "      <th>ad_type</th>\n",
       "      <th>energy_label</th>\n",
       "      <th>from_year</th>\n",
       "      <th>lat</th>\n",
       "      <th>local_area_name</th>\n",
       "      <th>lon</th>\n",
       "      <th>number_of_bedrooms</th>\n",
       "      <th>owner_type_description</th>\n",
       "      <th>property_type_description</th>\n",
       "      <th>size_from</th>\n",
       "      <th>to_year</th>\n",
       "      <th>type</th>\n",
       "    </tr>\n",
       "  </thead>\n",
       "  <tbody>\n",
       "    <tr>\n",
       "      <th>0</th>\n",
       "      <td>Olsvikåsen 132, Olsvik</td>\n",
       "      <td>261320756</td>\n",
       "      <td>https://www.finn.no/realestate/homes/ad.html?f...</td>\n",
       "      <td>1</td>\n",
       "      <td>5</td>\n",
       "      <td>1979</td>\n",
       "      <td>60.38086</td>\n",
       "      <td>Bergen Vest/Olsvik</td>\n",
       "      <td>5.22157</td>\n",
       "      <td>1</td>\n",
       "      <td>Andel</td>\n",
       "      <td>Leilighet</td>\n",
       "      <td>47.0</td>\n",
       "      <td>1979</td>\n",
       "      <td>realestate</td>\n",
       "    </tr>\n",
       "    <tr>\n",
       "      <th>1</th>\n",
       "      <td>Hans Haslums Vei 33, Bekkestua</td>\n",
       "      <td>261047389</td>\n",
       "      <td>https://www.finn.no/realestate/homes/ad.html?f...</td>\n",
       "      <td>1</td>\n",
       "      <td>5</td>\n",
       "      <td>1979</td>\n",
       "      <td>59.91960</td>\n",
       "      <td>DESIGNBOLIG PÅ BEKKESTUA</td>\n",
       "      <td>10.57280</td>\n",
       "      <td>6</td>\n",
       "      <td>Eier (Selveier)</td>\n",
       "      <td>Enebolig</td>\n",
       "      <td>359.0</td>\n",
       "      <td>1979</td>\n",
       "      <td>realestate</td>\n",
       "    </tr>\n",
       "    <tr>\n",
       "      <th>2</th>\n",
       "      <td>Oskarbakken 21, Mo i Rana</td>\n",
       "      <td>260995104</td>\n",
       "      <td>https://www.finn.no/realestate/homes/ad.html?f...</td>\n",
       "      <td>1</td>\n",
       "      <td>5</td>\n",
       "      <td>1979</td>\n",
       "      <td>66.29020</td>\n",
       "      <td>Åga</td>\n",
       "      <td>14.09350</td>\n",
       "      <td>5</td>\n",
       "      <td>Eier (Selveier)</td>\n",
       "      <td>Enebolig</td>\n",
       "      <td>153.0</td>\n",
       "      <td>1979</td>\n",
       "      <td>realestate</td>\n",
       "    </tr>\n",
       "    <tr>\n",
       "      <th>3</th>\n",
       "      <td>Sandalssvingen 7, Stavanger</td>\n",
       "      <td>260891920</td>\n",
       "      <td>https://www.finn.no/realestate/homes/ad.html?f...</td>\n",
       "      <td>1</td>\n",
       "      <td>5</td>\n",
       "      <td>1979</td>\n",
       "      <td>58.95740</td>\n",
       "      <td>SANDAL</td>\n",
       "      <td>5.68380</td>\n",
       "      <td>1</td>\n",
       "      <td>Andel</td>\n",
       "      <td>Leilighet</td>\n",
       "      <td>47.0</td>\n",
       "      <td>1979</td>\n",
       "      <td>realestate</td>\n",
       "    </tr>\n",
       "    <tr>\n",
       "      <th>4</th>\n",
       "      <td>Midtåstunet 8, Førde</td>\n",
       "      <td>260886553</td>\n",
       "      <td>https://www.finn.no/realestate/homes/ad.html?f...</td>\n",
       "      <td>1</td>\n",
       "      <td>5</td>\n",
       "      <td>1979</td>\n",
       "      <td>61.45764</td>\n",
       "      <td>None</td>\n",
       "      <td>5.90090</td>\n",
       "      <td>3</td>\n",
       "      <td>Andel</td>\n",
       "      <td>Rekkehus</td>\n",
       "      <td>99.0</td>\n",
       "      <td>1979</td>\n",
       "      <td>realestate</td>\n",
       "    </tr>\n",
       "  </tbody>\n",
       "</table>\n",
       "</div>"
      ],
      "text/plain": [
       "                         Location      ad_id  \\\n",
       "0          Olsvikåsen 132, Olsvik  261320756   \n",
       "1  Hans Haslums Vei 33, Bekkestua  261047389   \n",
       "2       Oskarbakken 21, Mo i Rana  260995104   \n",
       "3     Sandalssvingen 7, Stavanger  260891920   \n",
       "4            Midtåstunet 8, Førde  260886553   \n",
       "\n",
       "                                             ad_link  ad_type  energy_label  \\\n",
       "0  https://www.finn.no/realestate/homes/ad.html?f...        1             5   \n",
       "1  https://www.finn.no/realestate/homes/ad.html?f...        1             5   \n",
       "2  https://www.finn.no/realestate/homes/ad.html?f...        1             5   \n",
       "3  https://www.finn.no/realestate/homes/ad.html?f...        1             5   \n",
       "4  https://www.finn.no/realestate/homes/ad.html?f...        1             5   \n",
       "\n",
       "   from_year       lat           local_area_name       lon  \\\n",
       "0       1979  60.38086        Bergen Vest/Olsvik   5.22157   \n",
       "1       1979  59.91960  DESIGNBOLIG PÅ BEKKESTUA  10.57280   \n",
       "2       1979  66.29020                       Åga  14.09350   \n",
       "3       1979  58.95740                    SANDAL   5.68380   \n",
       "4       1979  61.45764                      None   5.90090   \n",
       "\n",
       "   number_of_bedrooms owner_type_description property_type_description  \\\n",
       "0                   1                  Andel                 Leilighet   \n",
       "1                   6        Eier (Selveier)                  Enebolig   \n",
       "2                   5        Eier (Selveier)                  Enebolig   \n",
       "3                   1                  Andel                 Leilighet   \n",
       "4                   3                  Andel                  Rekkehus   \n",
       "\n",
       "   size_from  to_year        type  \n",
       "0       47.0     1979  realestate  \n",
       "1      359.0     1979  realestate  \n",
       "2      153.0     1979  realestate  \n",
       "3       47.0     1979  realestate  \n",
       "4       99.0     1979  realestate  "
      ]
     },
     "execution_count": 8,
     "metadata": {},
     "output_type": "execute_result"
    }
   ],
   "source": [
    "df.head()"
   ]
  },
  {
   "cell_type": "markdown",
   "id": "d316c60a",
   "metadata": {},
   "source": [
    "### keep only the private housing: \n",
    "\n",
    "In the current dataset there is 'Leilighet', 'Leilighet', 'Rekkehus', 'Tomannsbolig',\n",
    "       'Gårdsbruk/Småbruk', 'Bygård/Flermannsbolig', 'Andre',\n",
    "       'Produksjon/Industri', 'Annet fritid', 'Garasje/Parkering'\n",
    "       \n",
    "** We keep only Leilighet, Enebolig, Rekkehus, Tomannsbolig.**"
   ]
  },
  {
   "cell_type": "code",
   "execution_count": 9,
   "id": "c0fca3a5",
   "metadata": {},
   "outputs": [],
   "source": [
    "for element in ['Gårdsbruk/Småbruk', 'Bygård/Flermannsbolig', 'Andre', \n",
    "       'Produksjon/Industri', 'Annet fritid', 'Garasje/Parkering']:\n",
    "    df.drop(df[df['property_type_description']==element].index,inplace=True)"
   ]
  },
  {
   "cell_type": "code",
   "execution_count": 10,
   "id": "1a35c32e",
   "metadata": {
    "scrolled": false
   },
   "outputs": [
    {
     "data": {
      "text/plain": [
       "Leilighet       3301\n",
       "Enebolig        2711\n",
       "Tomannsbolig     460\n",
       "Rekkehus         385\n",
       "Name: property_type_description, dtype: int64"
      ]
     },
     "execution_count": 10,
     "metadata": {},
     "output_type": "execute_result"
    }
   ],
   "source": [
    "df['property_type_description'].value_counts()"
   ]
  },
  {
   "cell_type": "code",
   "execution_count": 11,
   "id": "d97139a4",
   "metadata": {},
   "outputs": [
    {
     "data": {
      "text/plain": [
       "Eier (Selveier)    5352\n",
       "Andel              1445\n",
       "Aksje                59\n",
       "Obligasjon            1\n",
       "Name: owner_type_description, dtype: int64"
      ]
     },
     "execution_count": 11,
     "metadata": {},
     "output_type": "execute_result"
    }
   ],
   "source": [
    "df['owner_type_description'].value_counts()"
   ]
  },
  {
   "cell_type": "markdown",
   "id": "b9df1c9e",
   "metadata": {},
   "source": [
    "## energy labels \n",
    "\n",
    "dict ={'A':1,'B':2,'C':3,'D':4,'E':5,'F':6,'G':7}"
   ]
  },
  {
   "cell_type": "code",
   "execution_count": 12,
   "id": "4b49a062",
   "metadata": {},
   "outputs": [
    {
     "data": {
      "text/plain": [
       "<AxesSubplot:>"
      ]
     },
     "execution_count": 12,
     "metadata": {},
     "output_type": "execute_result"
    },
    {
     "data": {
      "image/png": "[encoded data removed]",
      "text/plain": [
       "<Figure size 432x288 with 1 Axes>"
      ]
     },
     "metadata": {
      "needs_background": "light"
     },
     "output_type": "display_data"
    }
   ],
   "source": [
    "df['energy_label'].value_counts().plot.bar()"
   ]
  },
  {
   "cell_type": "markdown",
   "id": "79368a4c",
   "metadata": {},
   "source": [
    "### Categorization of the ads by the year of the building\n",
    "\n",
    "- The baseline correlation is -0.736159 between the year of the building and the energy label \n",
    "- we increase it to 75% if define a cut off on 1901 and categorising by 5 years \n",
    "- cut off ≈ 1950 / 1960 => 82% and then need to play with the categorization ( 1 to 10 years ? )\n",
    "\n",
    "**TEK**\n",
    "In Norway the laws for the buildings were: TEK69 TEK87, TEK97,TEK07,TEK10, TEK17"
   ]
  },
  {
   "cell_type": "code",
   "execution_count": 13,
   "id": "795da775",
   "metadata": {},
   "outputs": [],
   "source": [
    "def CategoriseBuilding(year):\n",
    "    if year < 1969:\n",
    "        byggear_cat = 0\n",
    "    elif year < 1987:\n",
    "        byggear_cat = 1\n",
    "    elif year < 1997:\n",
    "        byggear_cat = 2\n",
    "    elif year < 2007:\n",
    "        byggear_cat = 3\n",
    "    elif year < 2010:\n",
    "        byggear_cat = 4\n",
    "    elif year < 2017:\n",
    "        byggear_cat = 5\n",
    "    elif year >= 2017:\n",
    "        byggear_cat = 6\n",
    "        \n",
    "    return byggear_cat\n"
   ]
  },
  {
   "cell_type": "code",
   "execution_count": 14,
   "id": "3f71b979",
   "metadata": {},
   "outputs": [],
   "source": [
    "df['byggear_cat'] = df['to_year'].apply(lambda x: CategoriseBuilding(x))"
   ]
  },
  {
   "cell_type": "code",
   "execution_count": 15,
   "id": "4ac5e0b8",
   "metadata": {},
   "outputs": [],
   "source": [
    "df2= pd.DataFrame(df['byggear_cat'].value_counts())"
   ]
  },
  {
   "cell_type": "code",
   "execution_count": 16,
   "id": "232211b2",
   "metadata": {},
   "outputs": [],
   "source": [
    "df2 = df2.sort_index()"
   ]
  },
  {
   "cell_type": "code",
   "execution_count": 17,
   "id": "ead40700",
   "metadata": {},
   "outputs": [],
   "source": [
    "df2= df2.rename(index={0:'no TEK',1:'TEK69',2:'TEK87',3:'TEK97',4:'TEK07',5:'TEK10',6:'TEK17'})"
   ]
  },
  {
   "cell_type": "code",
   "execution_count": 18,
   "id": "af0885be",
   "metadata": {},
   "outputs": [
    {
     "data": {
      "text/plain": [
       "<AxesSubplot:title={'center':'proportion of ads in the dataset based on TEK laws'}>"
      ]
     },
     "execution_count": 18,
     "metadata": {},
     "output_type": "execute_result"
    },
    {
     "data": {
      "image/png": "[encoded data removed]",
      "text/plain": [
       "<Figure size 720x432 with 1 Axes>"
      ]
     },
     "metadata": {
      "needs_background": "light"
     },
     "output_type": "display_data"
    }
   ],
   "source": [
    "df2.plot.bar(figsize=(10,6),title='proportion of ads in the dataset based on TEK laws')"
   ]
  },
  {
   "cell_type": "markdown",
   "id": "56890197",
   "metadata": {},
   "source": [
    "###  analysis of the energy label population within the different TEKsubsets"
   ]
  },
  {
   "cell_type": "code",
   "execution_count": 19,
   "id": "8b9cca0f",
   "metadata": {
    "scrolled": true
   },
   "outputs": [],
   "source": [
    "df_pivot = pd.DataFrame(pd.pivot_table(df,values=['energy_label'], index='byggear_cat',aggfunc='value_counts',sort='energy_label'))"
   ]
  },
  {
   "cell_type": "code",
   "execution_count": 20,
   "id": "9888708f",
   "metadata": {},
   "outputs": [],
   "source": [
    "df_pivot = df_pivot.sort_values(['byggear_cat','energy_label'])"
   ]
  },
  {
   "cell_type": "code",
   "execution_count": 21,
   "id": "ff64d825",
   "metadata": {},
   "outputs": [
    {
     "data": {
      "text/html": [
       "<div>\n",
       "<style scoped>\n",
       "    .dataframe tbody tr th:only-of-type {\n",
       "        vertical-align: middle;\n",
       "    }\n",
       "\n",
       "    .dataframe tbody tr th {\n",
       "        vertical-align: top;\n",
       "    }\n",
       "\n",
       "    .dataframe thead th {\n",
       "        text-align: right;\n",
       "    }\n",
       "</style>\n",
       "<table border=\"1\" class=\"dataframe\">\n",
       "  <thead>\n",
       "    <tr style=\"text-align: right;\">\n",
       "      <th></th>\n",
       "      <th></th>\n",
       "      <th>0</th>\n",
       "    </tr>\n",
       "    <tr>\n",
       "      <th>byggear_cat</th>\n",
       "      <th>energy_label</th>\n",
       "      <th></th>\n",
       "    </tr>\n",
       "  </thead>\n",
       "  <tbody>\n",
       "    <tr>\n",
       "      <th rowspan=\"7\" valign=\"top\">0</th>\n",
       "      <th>1</th>\n",
       "      <td>1</td>\n",
       "    </tr>\n",
       "    <tr>\n",
       "      <th>2</th>\n",
       "      <td>14</td>\n",
       "    </tr>\n",
       "    <tr>\n",
       "      <th>3</th>\n",
       "      <td>52</td>\n",
       "    </tr>\n",
       "    <tr>\n",
       "      <th>4</th>\n",
       "      <td>84</td>\n",
       "    </tr>\n",
       "    <tr>\n",
       "      <th>5</th>\n",
       "      <td>146</td>\n",
       "    </tr>\n",
       "    <tr>\n",
       "      <th>6</th>\n",
       "      <td>549</td>\n",
       "    </tr>\n",
       "    <tr>\n",
       "      <th>7</th>\n",
       "      <td>1618</td>\n",
       "    </tr>\n",
       "    <tr>\n",
       "      <th rowspan=\"3\" valign=\"top\">1</th>\n",
       "      <th>1</th>\n",
       "      <td>1</td>\n",
       "    </tr>\n",
       "    <tr>\n",
       "      <th>2</th>\n",
       "      <td>9</td>\n",
       "    </tr>\n",
       "    <tr>\n",
       "      <th>3</th>\n",
       "      <td>12</td>\n",
       "    </tr>\n",
       "  </tbody>\n",
       "</table>\n",
       "</div>"
      ],
      "text/plain": [
       "                             0\n",
       "byggear_cat energy_label      \n",
       "0           1                1\n",
       "            2               14\n",
       "            3               52\n",
       "            4               84\n",
       "            5              146\n",
       "            6              549\n",
       "            7             1618\n",
       "1           1                1\n",
       "            2                9\n",
       "            3               12"
      ]
     },
     "execution_count": 21,
     "metadata": {},
     "output_type": "execute_result"
    }
   ],
   "source": [
    "df_pivot.head(10)"
   ]
  },
  {
   "cell_type": "code",
   "execution_count": 22,
   "id": "dc13b47c",
   "metadata": {},
   "outputs": [
    {
     "data": {
      "image/png": "[encoded data removed]",
      "text/plain": [
       "<Figure size 1080x432 with 1 Axes>"
      ]
     },
     "metadata": {
      "needs_background": "light"
     },
     "output_type": "display_data"
    }
   ],
   "source": [
    "df_pivot.plot.bar(figsize=(15,6))\n",
    "plt.savefig('test.pdf')"
   ]
  },
  {
   "cell_type": "markdown",
   "id": "bcfb8b39",
   "metadata": {},
   "source": [
    "#####  anomalies investigation\n",
    "e.g.\n",
    "- (0,2): no TEK and energy label B: apartment or houses renovert\n",
    "- (6,5): TEK17 and label E: poor isolated building\n",
    "- (6,7): TEk17 and label G: maybe one fully renovert the rest is new buildings "
   ]
  },
  {
   "cell_type": "code",
   "execution_count": 23,
   "id": "fc4675a3",
   "metadata": {},
   "outputs": [],
   "source": [
    "temp_df = df[df['byggear_cat']==6]"
   ]
  },
  {
   "cell_type": "code",
   "execution_count": 24,
   "id": "6a331f0f",
   "metadata": {},
   "outputs": [
    {
     "data": {
      "text/plain": [
       "118     https://www.finn.no/realestate/homes/ad.html?f...\n",
       "120     https://www.finn.no/realestate/homes/ad.html?f...\n",
       "121     https://www.finn.no/realestate/homes/ad.html?f...\n",
       "122     https://www.finn.no/realestate/homes/ad.html?f...\n",
       "123     https://www.finn.no/realestate/homes/ad.html?f...\n",
       "6957    https://www.finn.no/realestate/homes/ad.html?f...\n",
       "6958    https://www.finn.no/realestate/homes/ad.html?f...\n",
       "6959    https://www.finn.no/realestate/homes/ad.html?f...\n",
       "6960    https://www.finn.no/realestate/homes/ad.html?f...\n",
       "Name: ad_link, dtype: object"
      ]
     },
     "execution_count": 24,
     "metadata": {},
     "output_type": "execute_result"
    }
   ],
   "source": [
    "temp_df[temp_df['energy_label']==7].ad_link"
   ]
  },
  {
   "cell_type": "code",
   "execution_count": 25,
   "id": "25b0f87a",
   "metadata": {},
   "outputs": [
    {
     "data": {
      "text/plain": [
       "Location                        0\n",
       "ad_id                           0\n",
       "ad_link                         0\n",
       "ad_type                         0\n",
       "energy_label                    0\n",
       "from_year                       0\n",
       "lat                             0\n",
       "local_area_name              2194\n",
       "lon                             0\n",
       "number_of_bedrooms              0\n",
       "owner_type_description          0\n",
       "property_type_description       0\n",
       "size_from                       1\n",
       "to_year                         0\n",
       "type                            0\n",
       "byggear_cat                     0\n",
       "dtype: int64"
      ]
     },
     "execution_count": 25,
     "metadata": {},
     "output_type": "execute_result"
    }
   ],
   "source": [
    "df.isnull().sum()"
   ]
  },
  {
   "cell_type": "markdown",
   "id": "c1b3afcf",
   "metadata": {},
   "source": [
    "## Improve the correlation building's year and energy label"
   ]
  },
  {
   "cell_type": "code",
   "execution_count": 26,
   "id": "846952c0",
   "metadata": {},
   "outputs": [],
   "source": [
    "corr_global = df.corr()['energy_label']['byggear_cat']\n",
    "#correlation year building vs energy label in function of the type of buildings\n",
    "\n",
    "corr_energy_labels_vs_type_ads=[]\n",
    "for type_ads in df['property_type_description'].unique():\n",
    "    local_corr = df[df['property_type_description'] == type_ads].corr()['energy_label']['byggear_cat']\n",
    "    corr_energy_labels_vs_type_ads.append(abs(local_corr))\n",
    "    \n",
    "labels = df['property_type_description'].unique()"
   ]
  },
  {
   "cell_type": "code",
   "execution_count": 27,
   "id": "2e5d963c",
   "metadata": {},
   "outputs": [],
   "source": [
    "df_correlation= pd.DataFrame({'Type_Announces':labels,'Correlation':corr_energy_labels_vs_type_ads})"
   ]
  },
  {
   "cell_type": "code",
   "execution_count": 28,
   "id": "e77b8296",
   "metadata": {},
   "outputs": [
    {
     "data": {
      "image/png": "[encoded data removed]",
      "text/plain": [
       "<Figure size 576x432 with 1 Axes>"
      ]
     },
     "metadata": {
      "needs_background": "light"
     },
     "output_type": "display_data"
    }
   ],
   "source": [
    "df_correlation.plot.barh(x='Type_Announces',y='Correlation',figsize=(8,6),title='Correlation between the category based on TEK and the energy label by type of ads')\n",
    "plt.savefig('correlation_by_type_building.pdf')"
   ]
  },
  {
   "cell_type": "code",
   "execution_count": 29,
   "id": "dadf5515",
   "metadata": {},
   "outputs": [
    {
     "data": {
      "text/html": [
       "<div>\n",
       "<style scoped>\n",
       "    .dataframe tbody tr th:only-of-type {\n",
       "        vertical-align: middle;\n",
       "    }\n",
       "\n",
       "    .dataframe tbody tr th {\n",
       "        vertical-align: top;\n",
       "    }\n",
       "\n",
       "    .dataframe thead th {\n",
       "        text-align: right;\n",
       "    }\n",
       "</style>\n",
       "<table border=\"1\" class=\"dataframe\">\n",
       "  <thead>\n",
       "    <tr style=\"text-align: right;\">\n",
       "      <th></th>\n",
       "      <th>ad_id</th>\n",
       "      <th>ad_type</th>\n",
       "      <th>energy_label</th>\n",
       "      <th>from_year</th>\n",
       "      <th>lat</th>\n",
       "      <th>lon</th>\n",
       "      <th>number_of_bedrooms</th>\n",
       "      <th>size_from</th>\n",
       "      <th>to_year</th>\n",
       "      <th>byggear_cat</th>\n",
       "    </tr>\n",
       "  </thead>\n",
       "  <tbody>\n",
       "    <tr>\n",
       "      <th>ad_id</th>\n",
       "      <td>1.000000</td>\n",
       "      <td>NaN</td>\n",
       "      <td>0.036030</td>\n",
       "      <td>-0.029159</td>\n",
       "      <td>-0.125344</td>\n",
       "      <td>-0.044342</td>\n",
       "      <td>-0.049499</td>\n",
       "      <td>-0.047328</td>\n",
       "      <td>-0.029159</td>\n",
       "      <td>-0.053178</td>\n",
       "    </tr>\n",
       "    <tr>\n",
       "      <th>ad_type</th>\n",
       "      <td>NaN</td>\n",
       "      <td>NaN</td>\n",
       "      <td>NaN</td>\n",
       "      <td>NaN</td>\n",
       "      <td>NaN</td>\n",
       "      <td>NaN</td>\n",
       "      <td>NaN</td>\n",
       "      <td>NaN</td>\n",
       "      <td>NaN</td>\n",
       "      <td>NaN</td>\n",
       "    </tr>\n",
       "    <tr>\n",
       "      <th>energy_label</th>\n",
       "      <td>0.036030</td>\n",
       "      <td>NaN</td>\n",
       "      <td>1.000000</td>\n",
       "      <td>-0.741742</td>\n",
       "      <td>0.052593</td>\n",
       "      <td>0.065122</td>\n",
       "      <td>0.077613</td>\n",
       "      <td>0.099158</td>\n",
       "      <td>-0.741742</td>\n",
       "      <td>-0.824377</td>\n",
       "    </tr>\n",
       "    <tr>\n",
       "      <th>from_year</th>\n",
       "      <td>-0.029159</td>\n",
       "      <td>NaN</td>\n",
       "      <td>-0.741742</td>\n",
       "      <td>1.000000</td>\n",
       "      <td>-0.005621</td>\n",
       "      <td>-0.027600</td>\n",
       "      <td>-0.048268</td>\n",
       "      <td>-0.079370</td>\n",
       "      <td>1.000000</td>\n",
       "      <td>0.843230</td>\n",
       "    </tr>\n",
       "    <tr>\n",
       "      <th>lat</th>\n",
       "      <td>-0.125344</td>\n",
       "      <td>NaN</td>\n",
       "      <td>0.052593</td>\n",
       "      <td>-0.005621</td>\n",
       "      <td>1.000000</td>\n",
       "      <td>0.705493</td>\n",
       "      <td>0.054721</td>\n",
       "      <td>0.004307</td>\n",
       "      <td>-0.005621</td>\n",
       "      <td>-0.051280</td>\n",
       "    </tr>\n",
       "    <tr>\n",
       "      <th>lon</th>\n",
       "      <td>-0.044342</td>\n",
       "      <td>NaN</td>\n",
       "      <td>0.065122</td>\n",
       "      <td>-0.027600</td>\n",
       "      <td>0.705493</td>\n",
       "      <td>1.000000</td>\n",
       "      <td>0.002025</td>\n",
       "      <td>-0.012964</td>\n",
       "      <td>-0.027600</td>\n",
       "      <td>-0.056868</td>\n",
       "    </tr>\n",
       "    <tr>\n",
       "      <th>number_of_bedrooms</th>\n",
       "      <td>-0.049499</td>\n",
       "      <td>NaN</td>\n",
       "      <td>0.077613</td>\n",
       "      <td>-0.048268</td>\n",
       "      <td>0.054721</td>\n",
       "      <td>0.002025</td>\n",
       "      <td>1.000000</td>\n",
       "      <td>0.748565</td>\n",
       "      <td>-0.048268</td>\n",
       "      <td>-0.095847</td>\n",
       "    </tr>\n",
       "    <tr>\n",
       "      <th>size_from</th>\n",
       "      <td>-0.047328</td>\n",
       "      <td>NaN</td>\n",
       "      <td>0.099158</td>\n",
       "      <td>-0.079370</td>\n",
       "      <td>0.004307</td>\n",
       "      <td>-0.012964</td>\n",
       "      <td>0.748565</td>\n",
       "      <td>1.000000</td>\n",
       "      <td>-0.079370</td>\n",
       "      <td>-0.153589</td>\n",
       "    </tr>\n",
       "    <tr>\n",
       "      <th>to_year</th>\n",
       "      <td>-0.029159</td>\n",
       "      <td>NaN</td>\n",
       "      <td>-0.741742</td>\n",
       "      <td>1.000000</td>\n",
       "      <td>-0.005621</td>\n",
       "      <td>-0.027600</td>\n",
       "      <td>-0.048268</td>\n",
       "      <td>-0.079370</td>\n",
       "      <td>1.000000</td>\n",
       "      <td>0.843230</td>\n",
       "    </tr>\n",
       "    <tr>\n",
       "      <th>byggear_cat</th>\n",
       "      <td>-0.053178</td>\n",
       "      <td>NaN</td>\n",
       "      <td>-0.824377</td>\n",
       "      <td>0.843230</td>\n",
       "      <td>-0.051280</td>\n",
       "      <td>-0.056868</td>\n",
       "      <td>-0.095847</td>\n",
       "      <td>-0.153589</td>\n",
       "      <td>0.843230</td>\n",
       "      <td>1.000000</td>\n",
       "    </tr>\n",
       "  </tbody>\n",
       "</table>\n",
       "</div>"
      ],
      "text/plain": [
       "                       ad_id  ad_type  energy_label  from_year       lat  \\\n",
       "ad_id               1.000000      NaN      0.036030  -0.029159 -0.125344   \n",
       "ad_type                  NaN      NaN           NaN        NaN       NaN   \n",
       "energy_label        0.036030      NaN      1.000000  -0.741742  0.052593   \n",
       "from_year          -0.029159      NaN     -0.741742   1.000000 -0.005621   \n",
       "lat                -0.125344      NaN      0.052593  -0.005621  1.000000   \n",
       "lon                -0.044342      NaN      0.065122  -0.027600  0.705493   \n",
       "number_of_bedrooms -0.049499      NaN      0.077613  -0.048268  0.054721   \n",
       "size_from          -0.047328      NaN      0.099158  -0.079370  0.004307   \n",
       "to_year            -0.029159      NaN     -0.741742   1.000000 -0.005621   \n",
       "byggear_cat        -0.053178      NaN     -0.824377   0.843230 -0.051280   \n",
       "\n",
       "                         lon  number_of_bedrooms  size_from   to_year  \\\n",
       "ad_id              -0.044342           -0.049499  -0.047328 -0.029159   \n",
       "ad_type                  NaN                 NaN        NaN       NaN   \n",
       "energy_label        0.065122            0.077613   0.099158 -0.741742   \n",
       "from_year          -0.027600           -0.048268  -0.079370  1.000000   \n",
       "lat                 0.705493            0.054721   0.004307 -0.005621   \n",
       "lon                 1.000000            0.002025  -0.012964 -0.027600   \n",
       "number_of_bedrooms  0.002025            1.000000   0.748565 -0.048268   \n",
       "size_from          -0.012964            0.748565   1.000000 -0.079370   \n",
       "to_year            -0.027600           -0.048268  -0.079370  1.000000   \n",
       "byggear_cat        -0.056868           -0.095847  -0.153589  0.843230   \n",
       "\n",
       "                    byggear_cat  \n",
       "ad_id                 -0.053178  \n",
       "ad_type                     NaN  \n",
       "energy_label          -0.824377  \n",
       "from_year              0.843230  \n",
       "lat                   -0.051280  \n",
       "lon                   -0.056868  \n",
       "number_of_bedrooms    -0.095847  \n",
       "size_from             -0.153589  \n",
       "to_year                0.843230  \n",
       "byggear_cat            1.000000  "
      ]
     },
     "execution_count": 29,
     "metadata": {},
     "output_type": "execute_result"
    }
   ],
   "source": [
    "df.corr()"
   ]
  },
  {
   "cell_type": "markdown",
   "id": "719a705e",
   "metadata": {},
   "source": [
    "### Impact of the ownership"
   ]
  },
  {
   "cell_type": "code",
   "execution_count": 30,
   "id": "4ca14f0a",
   "metadata": {},
   "outputs": [],
   "source": [
    "dict_ownership = {'Eier (Selveier)':1,'Andel':2,'Aksje':3,'Obligasjon':4}"
   ]
  },
  {
   "cell_type": "code",
   "execution_count": 31,
   "id": "c1ed24a5",
   "metadata": {},
   "outputs": [],
   "source": [
    "df['ownership_cat'] = df['owner_type_description'].map(dict_ownership)"
   ]
  },
  {
   "cell_type": "markdown",
   "id": "e3ee1e37",
   "metadata": {},
   "source": [
    "## Get Elevation"
   ]
  },
  {
   "cell_type": "code",
   "execution_count": 32,
   "id": "00424051",
   "metadata": {},
   "outputs": [],
   "source": [
    "def GetElevation(coordinates):\n",
    "    lat, lon = coordinates.split(',')\n",
    "    url = f\"https://maps.googleapis.com/maps/api/elevation/json?locations={lat},{lon}&key={GOOGLE_API}\"\n",
    "\n",
    "    payload={}\n",
    "    headers = {}\n",
    "\n",
    "    response = requests.request(\"GET\", url, headers=headers, data=payload)\n",
    "    #print(response.text)\n",
    "    response=response.json()\n",
    "    return response['results'][0]['elevation']\n",
    "\n",
    "df['lat,lon'] = df['lat'].astype(str)+','+ df['lon'].astype(str)\n",
    "\n",
    "#RUN ONLY if needed, takes 20min ( 8 ads per seconds)\n",
    "#df['elevation'] = df['lat,lon'].apply(lambda x: GetElevation(x))\n",
    "\n"
   ]
  },
  {
   "cell_type": "code",
   "execution_count": null,
   "id": "aa1f05eb",
   "metadata": {},
   "outputs": [],
   "source": []
  },
  {
   "cell_type": "markdown",
   "id": "0cf0c639",
   "metadata": {},
   "source": [
    "## Removing features\n",
    "\n"
   ]
  },
  {
   "cell_type": "code",
   "execution_count": null,
   "id": "52aa66ed",
   "metadata": {},
   "outputs": [],
   "source": []
  },
  {
   "cell_type": "code",
   "execution_count": 33,
   "id": "f1ffca89",
   "metadata": {},
   "outputs": [
    {
     "data": {
      "text/plain": [
       "Index(['Location', 'ad_id', 'ad_link', 'ad_type', 'energy_label', 'from_year',\n",
       "       'lat', 'local_area_name', 'lon', 'number_of_bedrooms',\n",
       "       'owner_type_description', 'property_type_description', 'size_from',\n",
       "       'to_year', 'type', 'byggear_cat', 'ownership_cat', 'lat,lon'],\n",
       "      dtype='object')"
      ]
     },
     "execution_count": 33,
     "metadata": {},
     "output_type": "execute_result"
    }
   ],
   "source": [
    "df.columns"
   ]
  },
  {
   "cell_type": "code",
   "execution_count": 34,
   "id": "fa7f995a",
   "metadata": {},
   "outputs": [],
   "source": [
    "df.drop(['from_year','to_year','number_of_bedrooms','ad_type','owner_type_description','local_area_name'],axis=1, inplace = True)"
   ]
  },
  {
   "cell_type": "markdown",
   "id": "966da88b",
   "metadata": {},
   "source": [
    "## output\n",
    "\n",
    "df.to_csv('output_cleaning_step.csv')"
   ]
  }
 ],
 "metadata": {
  "kernelspec": {
   "display_name": "Python 3 (ipykernel)",
   "language": "python",
   "name": "python3"
  },
  "language_info": {
   "codemirror_mode": {
    "name": "ipython",
    "version": 3
   },
   "file_extension": ".py",
   "mimetype": "text/x-python",
   "name": "python",
   "nbconvert_exporter": "python",
   "pygments_lexer": "ipython3",
   "version": "3.8.9"
  }
 },
 "nbformat": 4,
 "nbformat_minor": 5
}
