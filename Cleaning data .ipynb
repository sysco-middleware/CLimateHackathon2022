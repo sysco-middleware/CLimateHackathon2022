{
 "cells": [
  {
   "cell_type": "code",
   "execution_count": 1,
   "id": "0bfc5b32",
   "metadata": {},
   "outputs": [
    {
     "name": "stdout",
     "output_type": "stream",
     "text": [
      "INFO: Pandarallel will run on 4 workers.\n",
      "INFO: Pandarallel will use standard multiprocessing data transfer (pipe) to transfer data between the main process and workers.\n"
     ]
    }
   ],
   "source": [
    "import pandas as pd\n",
    "import glob\n",
    "import json \n",
    "import numpy as np\n",
    "from pandarallel import pandarallel\n",
    "import requests\n",
    "# Initialization\n",
    "pandarallel.initialize(nb_workers=4, use_memory_fs=False)\n",
    "import matplotlib.pyplot as plt\n",
    "\n",
    "pd.options.display.width = 150"
   ]
  },
  {
   "cell_type": "code",
   "execution_count": 2,
   "id": "7d126156",
   "metadata": {},
   "outputs": [],
   "source": [
    "GOOGLE_API= \"\"\n",
    "with open(\"Google_api_key.txt\", 'r') as f:\n",
    "            # It's assumed our file contains a single line,\n",
    "            # with our API key\n",
    "            GOOGLE_API = f.read().strip()"
   ]
  },
  {
   "cell_type": "markdown",
   "id": "8bbc3044",
   "metadata": {},
   "source": [
    "### Concatenante the data \n",
    "from the Logic App workflow, we get several json file, hence need to concatenate all together"
   ]
  },
  {
   "cell_type": "code",
   "execution_count": 3,
   "id": "cf8338c9",
   "metadata": {},
   "outputs": [],
   "source": [
    "# concatenate the json files\n",
    "\n",
    "df = pd.read_json('./Data/WithCoordinates_Finnyeardata_WholeNorway/WithCoordinates_1987_Finnyeardata_WholeNorway_1987_label_7.json')"
   ]
  },
  {
   "cell_type": "code",
   "execution_count": 4,
   "id": "f2f16e2d",
   "metadata": {},
   "outputs": [
    {
     "data": {
      "text/html": [
       "<div>\n",
       "<style scoped>\n",
       "    .dataframe tbody tr th:only-of-type {\n",
       "        vertical-align: middle;\n",
       "    }\n",
       "\n",
       "    .dataframe tbody tr th {\n",
       "        vertical-align: top;\n",
       "    }\n",
       "\n",
       "    .dataframe thead th {\n",
       "        text-align: right;\n",
       "    }\n",
       "</style>\n",
       "<table border=\"1\" class=\"dataframe\">\n",
       "  <thead>\n",
       "    <tr style=\"text-align: right;\">\n",
       "      <th></th>\n",
       "      <th>Location</th>\n",
       "      <th>ad_id</th>\n",
       "      <th>ad_link</th>\n",
       "      <th>ad_type</th>\n",
       "      <th>energy_label</th>\n",
       "      <th>from_year</th>\n",
       "      <th>lat</th>\n",
       "      <th>local_area_name</th>\n",
       "      <th>lon</th>\n",
       "      <th>number_of_bedrooms</th>\n",
       "      <th>owner_type_description</th>\n",
       "      <th>property_type_description</th>\n",
       "      <th>size_from</th>\n",
       "      <th>to_year</th>\n",
       "      <th>type</th>\n",
       "    </tr>\n",
       "  </thead>\n",
       "  <tbody>\n",
       "    <tr>\n",
       "      <th>0</th>\n",
       "      <td>Vanylvsvegen 1144, Fiskå</td>\n",
       "      <td>261340328</td>\n",
       "      <td>https://www.finn.no/realestate/homes/ad.html?f...</td>\n",
       "      <td>1</td>\n",
       "      <td>7</td>\n",
       "      <td>1987</td>\n",
       "      <td>62.09800</td>\n",
       "      <td>FISKÅ</td>\n",
       "      <td>5.59500</td>\n",
       "      <td>4</td>\n",
       "      <td>Eier (Selveier)</td>\n",
       "      <td>Enebolig</td>\n",
       "      <td>178</td>\n",
       "      <td>1987</td>\n",
       "      <td>realestate</td>\n",
       "    </tr>\n",
       "    <tr>\n",
       "      <th>1</th>\n",
       "      <td>Marcus Thranes gate 5, Gjøvik</td>\n",
       "      <td>261324095</td>\n",
       "      <td>https://www.finn.no/realestate/homes/ad.html?f...</td>\n",
       "      <td>1</td>\n",
       "      <td>7</td>\n",
       "      <td>1987</td>\n",
       "      <td>60.79909</td>\n",
       "      <td>None</td>\n",
       "      <td>10.68576</td>\n",
       "      <td>2</td>\n",
       "      <td>Eier (Selveier)</td>\n",
       "      <td>Leilighet</td>\n",
       "      <td>88</td>\n",
       "      <td>1987</td>\n",
       "      <td>realestate</td>\n",
       "    </tr>\n",
       "    <tr>\n",
       "      <th>2</th>\n",
       "      <td>Herregårdsveien 115B, Oslo</td>\n",
       "      <td>258617331</td>\n",
       "      <td>https://www.finn.no/realestate/homes/ad.html?f...</td>\n",
       "      <td>1</td>\n",
       "      <td>7</td>\n",
       "      <td>1987</td>\n",
       "      <td>59.84323</td>\n",
       "      <td>Ljan / Nordstrand</td>\n",
       "      <td>10.77654</td>\n",
       "      <td>1</td>\n",
       "      <td>Andel</td>\n",
       "      <td>Leilighet</td>\n",
       "      <td>51</td>\n",
       "      <td>1987</td>\n",
       "      <td>realestate</td>\n",
       "    </tr>\n",
       "    <tr>\n",
       "      <th>3</th>\n",
       "      <td>Furulundtoppen 21, Oslo</td>\n",
       "      <td>257295350</td>\n",
       "      <td>https://www.finn.no/realestate/homes/ad.html?f...</td>\n",
       "      <td>1</td>\n",
       "      <td>7</td>\n",
       "      <td>1987</td>\n",
       "      <td>59.92410</td>\n",
       "      <td>Ullern/Furulundtoppen</td>\n",
       "      <td>10.64710</td>\n",
       "      <td>2</td>\n",
       "      <td>Eier (Selveier)</td>\n",
       "      <td>Leilighet</td>\n",
       "      <td>136</td>\n",
       "      <td>1987</td>\n",
       "      <td>realestate</td>\n",
       "    </tr>\n",
       "    <tr>\n",
       "      <th>4</th>\n",
       "      <td>Abraham Berges vei 46A, Vanse</td>\n",
       "      <td>260514516</td>\n",
       "      <td>https://www.finn.no/realestate/homes/ad.html?f...</td>\n",
       "      <td>1</td>\n",
       "      <td>7</td>\n",
       "      <td>1987</td>\n",
       "      <td>58.10040</td>\n",
       "      <td>None</td>\n",
       "      <td>6.69778</td>\n",
       "      <td>2</td>\n",
       "      <td>Eier (Selveier)</td>\n",
       "      <td>Leilighet</td>\n",
       "      <td>93</td>\n",
       "      <td>1987</td>\n",
       "      <td>realestate</td>\n",
       "    </tr>\n",
       "  </tbody>\n",
       "</table>\n",
       "</div>"
      ],
      "text/plain": [
       "                        Location      ad_id                                            ad_link  ad_type  energy_label  from_year       lat  \\\n",
       "0       Vanylvsvegen 1144, Fiskå  261340328  https://www.finn.no/realestate/homes/ad.html?f...        1             7       1987  62.09800   \n",
       "1  Marcus Thranes gate 5, Gjøvik  261324095  https://www.finn.no/realestate/homes/ad.html?f...        1             7       1987  60.79909   \n",
       "2     Herregårdsveien 115B, Oslo  258617331  https://www.finn.no/realestate/homes/ad.html?f...        1             7       1987  59.84323   \n",
       "3        Furulundtoppen 21, Oslo  257295350  https://www.finn.no/realestate/homes/ad.html?f...        1             7       1987  59.92410   \n",
       "4  Abraham Berges vei 46A, Vanse  260514516  https://www.finn.no/realestate/homes/ad.html?f...        1             7       1987  58.10040   \n",
       "\n",
       "         local_area_name       lon  number_of_bedrooms owner_type_description property_type_description  size_from  to_year        type  \n",
       "0                  FISKÅ   5.59500                   4        Eier (Selveier)                  Enebolig        178     1987  realestate  \n",
       "1                   None  10.68576                   2        Eier (Selveier)                 Leilighet         88     1987  realestate  \n",
       "2      Ljan / Nordstrand  10.77654                   1                  Andel                 Leilighet         51     1987  realestate  \n",
       "3  Ullern/Furulundtoppen  10.64710                   2        Eier (Selveier)                 Leilighet        136     1987  realestate  \n",
       "4                   None   6.69778                   2        Eier (Selveier)                 Leilighet         93     1987  realestate  "
      ]
     },
     "execution_count": 4,
     "metadata": {},
     "output_type": "execute_result"
    }
   ],
   "source": [
    "df.head()"
   ]
  },
  {
   "cell_type": "code",
   "execution_count": 5,
   "id": "1a86da92",
   "metadata": {},
   "outputs": [],
   "source": [
    "data = []\n",
    "\n",
    "for f in glob.glob(\"./Data/WithCoordinates_Finnyeardata_WholeNorway/*.json\"):\n",
    "\n",
    "    with open(f,) as infile:\n",
    "\n",
    "        data.extend(json.load(infile))\n",
    "\n",
    "\n",
    "with open(\"merged_file.json\",'w') as outfile:\n",
    "\n",
    "    json.dump(data, outfile)\n",
    "\n"
   ]
  },
  {
   "cell_type": "code",
   "execution_count": 6,
   "id": "abc86cc7",
   "metadata": {},
   "outputs": [
    {
     "data": {
      "text/plain": [
       "6961"
      ]
     },
     "execution_count": 6,
     "metadata": {},
     "output_type": "execute_result"
    }
   ],
   "source": [
    "len(data)"
   ]
  },
  {
   "cell_type": "markdown",
   "id": "b632d230",
   "metadata": {},
   "source": [
    "### Data Cleaning"
   ]
  },
  {
   "cell_type": "code",
   "execution_count": 7,
   "id": "b77c40cd",
   "metadata": {},
   "outputs": [],
   "source": [
    "df = pd.DataFrame(data)"
   ]
  },
  {
   "cell_type": "code",
   "execution_count": 8,
   "id": "5d18b916",
   "metadata": {},
   "outputs": [
    {
     "data": {
      "text/html": [
       "<div>\n",
       "<style scoped>\n",
       "    .dataframe tbody tr th:only-of-type {\n",
       "        vertical-align: middle;\n",
       "    }\n",
       "\n",
       "    .dataframe tbody tr th {\n",
       "        vertical-align: top;\n",
       "    }\n",
       "\n",
       "    .dataframe thead th {\n",
       "        text-align: right;\n",
       "    }\n",
       "</style>\n",
       "<table border=\"1\" class=\"dataframe\">\n",
       "  <thead>\n",
       "    <tr style=\"text-align: right;\">\n",
       "      <th></th>\n",
       "      <th>Location</th>\n",
       "      <th>ad_id</th>\n",
       "      <th>ad_link</th>\n",
       "      <th>ad_type</th>\n",
       "      <th>energy_label</th>\n",
       "      <th>from_year</th>\n",
       "      <th>lat</th>\n",
       "      <th>local_area_name</th>\n",
       "      <th>lon</th>\n",
       "      <th>number_of_bedrooms</th>\n",
       "      <th>owner_type_description</th>\n",
       "      <th>property_type_description</th>\n",
       "      <th>size_from</th>\n",
       "      <th>to_year</th>\n",
       "      <th>type</th>\n",
       "    </tr>\n",
       "  </thead>\n",
       "  <tbody>\n",
       "    <tr>\n",
       "      <th>0</th>\n",
       "      <td>Olsvikåsen 132, Olsvik</td>\n",
       "      <td>261320756</td>\n",
       "      <td>https://www.finn.no/realestate/homes/ad.html?f...</td>\n",
       "      <td>1</td>\n",
       "      <td>5</td>\n",
       "      <td>1979</td>\n",
       "      <td>60.38086</td>\n",
       "      <td>Bergen Vest/Olsvik</td>\n",
       "      <td>5.22157</td>\n",
       "      <td>1</td>\n",
       "      <td>Andel</td>\n",
       "      <td>Leilighet</td>\n",
       "      <td>47.0</td>\n",
       "      <td>1979</td>\n",
       "      <td>realestate</td>\n",
       "    </tr>\n",
       "    <tr>\n",
       "      <th>1</th>\n",
       "      <td>Hans Haslums Vei 33, Bekkestua</td>\n",
       "      <td>261047389</td>\n",
       "      <td>https://www.finn.no/realestate/homes/ad.html?f...</td>\n",
       "      <td>1</td>\n",
       "      <td>5</td>\n",
       "      <td>1979</td>\n",
       "      <td>59.91960</td>\n",
       "      <td>DESIGNBOLIG PÅ BEKKESTUA</td>\n",
       "      <td>10.57280</td>\n",
       "      <td>6</td>\n",
       "      <td>Eier (Selveier)</td>\n",
       "      <td>Enebolig</td>\n",
       "      <td>359.0</td>\n",
       "      <td>1979</td>\n",
       "      <td>realestate</td>\n",
       "    </tr>\n",
       "    <tr>\n",
       "      <th>2</th>\n",
       "      <td>Oskarbakken 21, Mo i Rana</td>\n",
       "      <td>260995104</td>\n",
       "      <td>https://www.finn.no/realestate/homes/ad.html?f...</td>\n",
       "      <td>1</td>\n",
       "      <td>5</td>\n",
       "      <td>1979</td>\n",
       "      <td>66.29020</td>\n",
       "      <td>Åga</td>\n",
       "      <td>14.09350</td>\n",
       "      <td>5</td>\n",
       "      <td>Eier (Selveier)</td>\n",
       "      <td>Enebolig</td>\n",
       "      <td>153.0</td>\n",
       "      <td>1979</td>\n",
       "      <td>realestate</td>\n",
       "    </tr>\n",
       "    <tr>\n",
       "      <th>3</th>\n",
       "      <td>Sandalssvingen 7, Stavanger</td>\n",
       "      <td>260891920</td>\n",
       "      <td>https://www.finn.no/realestate/homes/ad.html?f...</td>\n",
       "      <td>1</td>\n",
       "      <td>5</td>\n",
       "      <td>1979</td>\n",
       "      <td>58.95740</td>\n",
       "      <td>SANDAL</td>\n",
       "      <td>5.68380</td>\n",
       "      <td>1</td>\n",
       "      <td>Andel</td>\n",
       "      <td>Leilighet</td>\n",
       "      <td>47.0</td>\n",
       "      <td>1979</td>\n",
       "      <td>realestate</td>\n",
       "    </tr>\n",
       "    <tr>\n",
       "      <th>4</th>\n",
       "      <td>Midtåstunet 8, Førde</td>\n",
       "      <td>260886553</td>\n",
       "      <td>https://www.finn.no/realestate/homes/ad.html?f...</td>\n",
       "      <td>1</td>\n",
       "      <td>5</td>\n",
       "      <td>1979</td>\n",
       "      <td>61.45764</td>\n",
       "      <td>None</td>\n",
       "      <td>5.90090</td>\n",
       "      <td>3</td>\n",
       "      <td>Andel</td>\n",
       "      <td>Rekkehus</td>\n",
       "      <td>99.0</td>\n",
       "      <td>1979</td>\n",
       "      <td>realestate</td>\n",
       "    </tr>\n",
       "  </tbody>\n",
       "</table>\n",
       "</div>"
      ],
      "text/plain": [
       "                         Location      ad_id                                            ad_link  ad_type  energy_label  from_year       lat  \\\n",
       "0          Olsvikåsen 132, Olsvik  261320756  https://www.finn.no/realestate/homes/ad.html?f...        1             5       1979  60.38086   \n",
       "1  Hans Haslums Vei 33, Bekkestua  261047389  https://www.finn.no/realestate/homes/ad.html?f...        1             5       1979  59.91960   \n",
       "2       Oskarbakken 21, Mo i Rana  260995104  https://www.finn.no/realestate/homes/ad.html?f...        1             5       1979  66.29020   \n",
       "3     Sandalssvingen 7, Stavanger  260891920  https://www.finn.no/realestate/homes/ad.html?f...        1             5       1979  58.95740   \n",
       "4            Midtåstunet 8, Førde  260886553  https://www.finn.no/realestate/homes/ad.html?f...        1             5       1979  61.45764   \n",
       "\n",
       "            local_area_name       lon  number_of_bedrooms owner_type_description property_type_description  size_from  to_year        type  \n",
       "0        Bergen Vest/Olsvik   5.22157                   1                  Andel                 Leilighet       47.0     1979  realestate  \n",
       "1  DESIGNBOLIG PÅ BEKKESTUA  10.57280                   6        Eier (Selveier)                  Enebolig      359.0     1979  realestate  \n",
       "2                       Åga  14.09350                   5        Eier (Selveier)                  Enebolig      153.0     1979  realestate  \n",
       "3                    SANDAL   5.68380                   1                  Andel                 Leilighet       47.0     1979  realestate  \n",
       "4                      None   5.90090                   3                  Andel                  Rekkehus       99.0     1979  realestate  "
      ]
     },
     "execution_count": 8,
     "metadata": {},
     "output_type": "execute_result"
    }
   ],
   "source": [
    "df.head()"
   ]
  },
  {
   "cell_type": "markdown",
   "id": "09fa2c30",
   "metadata": {},
   "source": [
    "### keep only the private housing: \n",
    "\n",
    "In the current dataset there is 'Leilighet', 'Leilighet', 'Rekkehus', 'Tomannsbolig',\n",
    "       'Gårdsbruk/Småbruk', 'Bygård/Flermannsbolig', 'Andre',\n",
    "       'Produksjon/Industri', 'Annet fritid', 'Garasje/Parkering'\n",
    "       \n",
    "** We keep only Leilighet, Enebolig, Rekkehus, Tomannsbolig.**"
   ]
  },
  {
   "cell_type": "code",
   "execution_count": 9,
   "id": "2767b981",
   "metadata": {},
   "outputs": [],
   "source": [
    "for element in ['Gårdsbruk/Småbruk', 'Bygård/Flermannsbolig', 'Andre', \n",
    "       'Produksjon/Industri', 'Annet fritid', 'Garasje/Parkering']:\n",
    "    df.drop(df[df['property_type_description']==element].index,inplace=True)"
   ]
  },
  {
   "cell_type": "code",
   "execution_count": 10,
   "id": "1a35c32e",
   "metadata": {
    "scrolled": false
   },
   "outputs": [
    {
     "data": {
      "text/plain": [
       "Leilighet       3301\n",
       "Enebolig        2711\n",
       "Tomannsbolig     460\n",
       "Rekkehus         385\n",
       "Name: property_type_description, dtype: int64"
      ]
     },
     "execution_count": 10,
     "metadata": {},
     "output_type": "execute_result"
    }
   ],
   "source": [
    "df['property_type_description'].value_counts()"
   ]
  },
  {
   "cell_type": "code",
   "execution_count": 11,
   "id": "d97139a4",
   "metadata": {},
   "outputs": [
    {
     "data": {
      "text/plain": [
       "Eier (Selveier)    5352\n",
       "Andel              1445\n",
       "Aksje                59\n",
       "Obligasjon            1\n",
       "Name: owner_type_description, dtype: int64"
      ]
     },
     "execution_count": 11,
     "metadata": {},
     "output_type": "execute_result"
    }
   ],
   "source": [
    "df['owner_type_description'].value_counts()"
   ]
  },
  {
   "cell_type": "markdown",
   "id": "b9df1c9e",
   "metadata": {},
   "source": [
    "## energy labels \n",
    "\n",
    "dict ={'A':1,'B':2,'C':3,'D':4,'E':5,'F':6,'G':7}"
   ]
  },
  {
   "cell_type": "code",
   "execution_count": 48,
   "id": "4b49a062",
   "metadata": {},
   "outputs": [
    {
     "data": {
      "image/png": "[encoded data removed]",
      "text/plain": [
       "<Figure size 576x432 with 1 Axes>"
      ]
     },
     "metadata": {
      "needs_background": "light"
     },
     "output_type": "display_data"
    }
   ],
   "source": [
    "df['energy_label'].value_counts().sort_index().plot.bar(figsize=(8,6))\n",
    "plt.title('# of goods by energy label')\n",
    "plt.xlabel('energy label: A -> G')\n",
    "plt.ylabel('# of ads')\n",
    "\n",
    "plt.savefig('nr_ads_by_energetic_labels')"
   ]
  },
  {
   "cell_type": "markdown",
   "id": "79368a4c",
   "metadata": {},
   "source": [
    "### Categorization of the ads by the year of the building\n",
    "\n",
    "- The baseline correlation is -0.736159 between the year of the building and the energy label \n",
    "- we increase it to 75% if define a cut off on 1901 and categorising by 5 years \n",
    "- cut off ≈ 1950 / 1960 => 82% and then need to play with the categorization ( 1 to 10 years ? )\n",
    "\n",
    "**TEK**\n",
    "In Norway the laws for the buildings were: TEK69 TEK87, TEK97,TEK07,TEK10, TEK17"
   ]
  },
  {
   "cell_type": "code",
   "execution_count": 13,
   "id": "30c9a236",
   "metadata": {},
   "outputs": [],
   "source": [
    "def CategoriseBuilding(year):\n",
    "    if year < 1969:\n",
    "        byggear_cat = 0\n",
    "    elif year < 1987:\n",
    "        byggear_cat = 1\n",
    "    elif year < 1997:\n",
    "        byggear_cat = 2\n",
    "    elif year < 2007:\n",
    "        byggear_cat = 3\n",
    "    elif year < 2010:\n",
    "        byggear_cat = 4\n",
    "    elif year < 2017:\n",
    "        byggear_cat = 5\n",
    "    elif year >= 2017:\n",
    "        byggear_cat = 6\n",
    "        \n",
    "    return byggear_cat\n"
   ]
  },
  {
   "cell_type": "code",
   "execution_count": 14,
   "id": "067dd0c7",
   "metadata": {},
   "outputs": [],
   "source": [
    "df['byggear_cat'] = df['to_year'].apply(lambda x: CategoriseBuilding(x))"
   ]
  },
  {
   "cell_type": "code",
   "execution_count": 15,
   "id": "cf61cb6a",
   "metadata": {},
   "outputs": [],
   "source": [
    "df2= pd.DataFrame(df['byggear_cat'].value_counts())"
   ]
  },
  {
   "cell_type": "code",
   "execution_count": 16,
   "id": "eb82ff80",
   "metadata": {},
   "outputs": [],
   "source": [
    "df2 = df2.sort_index()"
   ]
  },
  {
   "cell_type": "code",
   "execution_count": 17,
   "id": "e3e15d8d",
   "metadata": {},
   "outputs": [],
   "source": [
    "df2= df2.rename(index={0:'no TEK',1:'TEK69',2:'TEK87',3:'TEK97',4:'TEK07',5:'TEK10',6:'TEK17'})"
   ]
  },
  {
   "cell_type": "code",
   "execution_count": 59,
   "id": "ff1a992b",
   "metadata": {},
   "outputs": [
    {
     "data": {
      "image/png": "[encoded data removed]",
      "text/plain": [
       "<Figure size 576x288 with 1 Axes>"
      ]
     },
     "metadata": {
      "needs_background": "light"
     },
     "output_type": "display_data"
    }
   ],
   "source": [
    "df2.plot.bar(figsize=(8,4))\n",
    "\n",
    "plt.title('Proportion of ads in the dataset based on TEK laws')\n",
    "plt.xlabel('the different TEK in Norway')\n",
    "plt.ylabel('# of ads')\n",
    "\n",
    "plt.savefig('nr_ads_by_TEK_cat')"
   ]
  },
  {
   "cell_type": "markdown",
   "id": "93bd4c45",
   "metadata": {},
   "source": [
    "###  analysis of the energy label population within the different TEKsubsets"
   ]
  },
  {
   "cell_type": "code",
   "execution_count": 19,
   "id": "ae8bfaab",
   "metadata": {
    "scrolled": true
   },
   "outputs": [],
   "source": [
    "df_pivot = pd.DataFrame(pd.pivot_table(df,values=['energy_label'], index='byggear_cat',aggfunc='value_counts',sort='energy_label'))"
   ]
  },
  {
   "cell_type": "code",
   "execution_count": 20,
   "id": "e173eb6c",
   "metadata": {},
   "outputs": [],
   "source": [
    "df_pivot = df_pivot.sort_values(['byggear_cat','energy_label'])"
   ]
  },
  {
   "cell_type": "code",
   "execution_count": 21,
   "id": "b8e46ab4",
   "metadata": {},
   "outputs": [
    {
     "data": {
      "text/html": [
       "<div>\n",
       "<style scoped>\n",
       "    .dataframe tbody tr th:only-of-type {\n",
       "        vertical-align: middle;\n",
       "    }\n",
       "\n",
       "    .dataframe tbody tr th {\n",
       "        vertical-align: top;\n",
       "    }\n",
       "\n",
       "    .dataframe thead th {\n",
       "        text-align: right;\n",
       "    }\n",
       "</style>\n",
       "<table border=\"1\" class=\"dataframe\">\n",
       "  <thead>\n",
       "    <tr style=\"text-align: right;\">\n",
       "      <th></th>\n",
       "      <th></th>\n",
       "      <th>0</th>\n",
       "    </tr>\n",
       "    <tr>\n",
       "      <th>byggear_cat</th>\n",
       "      <th>energy_label</th>\n",
       "      <th></th>\n",
       "    </tr>\n",
       "  </thead>\n",
       "  <tbody>\n",
       "    <tr>\n",
       "      <th rowspan=\"7\" valign=\"top\">0</th>\n",
       "      <th>1</th>\n",
       "      <td>1</td>\n",
       "    </tr>\n",
       "    <tr>\n",
       "      <th>2</th>\n",
       "      <td>14</td>\n",
       "    </tr>\n",
       "    <tr>\n",
       "      <th>3</th>\n",
       "      <td>52</td>\n",
       "    </tr>\n",
       "    <tr>\n",
       "      <th>4</th>\n",
       "      <td>84</td>\n",
       "    </tr>\n",
       "    <tr>\n",
       "      <th>5</th>\n",
       "      <td>146</td>\n",
       "    </tr>\n",
       "    <tr>\n",
       "      <th>6</th>\n",
       "      <td>549</td>\n",
       "    </tr>\n",
       "    <tr>\n",
       "      <th>7</th>\n",
       "      <td>1618</td>\n",
       "    </tr>\n",
       "    <tr>\n",
       "      <th rowspan=\"3\" valign=\"top\">1</th>\n",
       "      <th>1</th>\n",
       "      <td>1</td>\n",
       "    </tr>\n",
       "    <tr>\n",
       "      <th>2</th>\n",
       "      <td>9</td>\n",
       "    </tr>\n",
       "    <tr>\n",
       "      <th>3</th>\n",
       "      <td>12</td>\n",
       "    </tr>\n",
       "  </tbody>\n",
       "</table>\n",
       "</div>"
      ],
      "text/plain": [
       "                             0\n",
       "byggear_cat energy_label      \n",
       "0           1                1\n",
       "            2               14\n",
       "            3               52\n",
       "            4               84\n",
       "            5              146\n",
       "            6              549\n",
       "            7             1618\n",
       "1           1                1\n",
       "            2                9\n",
       "            3               12"
      ]
     },
     "execution_count": 21,
     "metadata": {},
     "output_type": "execute_result"
    }
   ],
   "source": [
    "df_pivot.head(10)"
   ]
  },
  {
   "cell_type": "code",
   "execution_count": 61,
   "id": "d11d4ed2",
   "metadata": {},
   "outputs": [
    {
     "data": {
      "text/plain": [
       "Text(98.75, 0.5, 'nr_ads_details.pdf')"
      ]
     },
     "execution_count": 61,
     "metadata": {},
     "output_type": "execute_result"
    },
    {
     "data": {
      "image/png": "[encoded data removed]",
      "text/plain": [
       "<Figure size 1080x432 with 1 Axes>"
      ]
     },
     "metadata": {
      "needs_background": "light"
     },
     "output_type": "display_data"
    }
   ],
   "source": [
    "df_pivot.plot.bar(figsize=(15,6))\n",
    "plt.savefig('proportion.pdf')\n",
    "\n",
    "plt.xlabel(' (TEK category, energy label)')\n",
    "plt.ylabel('nr_ads_details.pdf')"
   ]
  },
  {
   "cell_type": "markdown",
   "id": "fa03e342",
   "metadata": {},
   "source": [
    "#####  anomalies investigation\n",
    "e.g.\n",
    "- (0,2): no TEK and energy label B: apartment or houses renovert\n",
    "- (6,5): TEK17 and label E: poor isolated building\n",
    "- (6,7): TEk17 and label G: maybe one fully renovert the rest is new buildings "
   ]
  },
  {
   "cell_type": "code",
   "execution_count": 23,
   "id": "bf9a3d5e",
   "metadata": {},
   "outputs": [],
   "source": [
    "temp_df = df[df['byggear_cat']==6]"
   ]
  },
  {
   "cell_type": "code",
   "execution_count": 24,
   "id": "c7706c8d",
   "metadata": {},
   "outputs": [
    {
     "data": {
      "text/plain": [
       "118     https://www.finn.no/realestate/homes/ad.html?f...\n",
       "120     https://www.finn.no/realestate/homes/ad.html?f...\n",
       "121     https://www.finn.no/realestate/homes/ad.html?f...\n",
       "122     https://www.finn.no/realestate/homes/ad.html?f...\n",
       "123     https://www.finn.no/realestate/homes/ad.html?f...\n",
       "6957    https://www.finn.no/realestate/homes/ad.html?f...\n",
       "6958    https://www.finn.no/realestate/homes/ad.html?f...\n",
       "6959    https://www.finn.no/realestate/homes/ad.html?f...\n",
       "6960    https://www.finn.no/realestate/homes/ad.html?f...\n",
       "Name: ad_link, dtype: object"
      ]
     },
     "execution_count": 24,
     "metadata": {},
     "output_type": "execute_result"
    }
   ],
   "source": [
    "temp_df[temp_df['energy_label']==7].ad_link"
   ]
  },
  {
   "cell_type": "code",
   "execution_count": 25,
   "id": "57c992f4",
   "metadata": {},
   "outputs": [
    {
     "data": {
      "text/plain": [
       "Location                        0\n",
       "ad_id                           0\n",
       "ad_link                         0\n",
       "ad_type                         0\n",
       "energy_label                    0\n",
       "from_year                       0\n",
       "lat                             0\n",
       "local_area_name              2194\n",
       "lon                             0\n",
       "number_of_bedrooms              0\n",
       "owner_type_description          0\n",
       "property_type_description       0\n",
       "size_from                       1\n",
       "to_year                         0\n",
       "type                            0\n",
       "byggear_cat                     0\n",
       "dtype: int64"
      ]
     },
     "execution_count": 25,
     "metadata": {},
     "output_type": "execute_result"
    }
   ],
   "source": [
    "df.isnull().sum()"
   ]
  },
  {
   "cell_type": "markdown",
   "id": "34722de3",
   "metadata": {},
   "source": [
    "## Improve the correlation building's year and energy label"
   ]
  },
  {
   "cell_type": "code",
   "execution_count": 26,
   "id": "1a0c05b5",
   "metadata": {},
   "outputs": [],
   "source": [
    "corr_global = df.corr()['energy_label']['byggear_cat']\n",
    "#correlation year building vs energy label in function of the type of buildings\n",
    "\n",
    "corr_energy_labels_vs_type_ads=[]\n",
    "for type_ads in df['property_type_description'].unique():\n",
    "    local_corr = df[df['property_type_description'] == type_ads].corr()['energy_label']['byggear_cat']\n",
    "    corr_energy_labels_vs_type_ads.append(abs(local_corr))\n",
    "    \n",
    "labels = df['property_type_description'].unique()"
   ]
  },
  {
   "cell_type": "code",
   "execution_count": 27,
   "id": "90709c18",
   "metadata": {},
   "outputs": [],
   "source": [
    "df_correlation= pd.DataFrame({'Type_Announces':labels,'Correlation':corr_energy_labels_vs_type_ads})"
   ]
  },
  {
   "cell_type": "code",
   "execution_count": 28,
   "id": "120d145e",
   "metadata": {},
   "outputs": [
    {
     "data": {
      "image/png": "[encoded data removed]",
      "text/plain": [
       "<Figure size 576x432 with 1 Axes>"
      ]
     },
     "metadata": {
      "needs_background": "light"
     },
     "output_type": "display_data"
    }
   ],
   "source": [
    "df_correlation.plot.barh(x='Type_Announces',y='Correlation',figsize=(8,6),title='Correlation between the category based on TEK and the energy label by type of ads')\n",
    "plt.savefig('correlation_by_type_building.pdf')"
   ]
  },
  {
   "cell_type": "code",
   "execution_count": 29,
   "id": "d231b9b1",
   "metadata": {},
   "outputs": [
    {
     "data": {
      "text/html": [
       "<div>\n",
       "<style scoped>\n",
       "    .dataframe tbody tr th:only-of-type {\n",
       "        vertical-align: middle;\n",
       "    }\n",
       "\n",
       "    .dataframe tbody tr th {\n",
       "        vertical-align: top;\n",
       "    }\n",
       "\n",
       "    .dataframe thead th {\n",
       "        text-align: right;\n",
       "    }\n",
       "</style>\n",
       "<table border=\"1\" class=\"dataframe\">\n",
       "  <thead>\n",
       "    <tr style=\"text-align: right;\">\n",
       "      <th></th>\n",
       "      <th>ad_id</th>\n",
       "      <th>ad_type</th>\n",
       "      <th>energy_label</th>\n",
       "      <th>from_year</th>\n",
       "      <th>lat</th>\n",
       "      <th>lon</th>\n",
       "      <th>number_of_bedrooms</th>\n",
       "      <th>size_from</th>\n",
       "      <th>to_year</th>\n",
       "      <th>byggear_cat</th>\n",
       "    </tr>\n",
       "  </thead>\n",
       "  <tbody>\n",
       "    <tr>\n",
       "      <th>ad_id</th>\n",
       "      <td>1.000000</td>\n",
       "      <td>NaN</td>\n",
       "      <td>0.036030</td>\n",
       "      <td>-0.029159</td>\n",
       "      <td>-0.125344</td>\n",
       "      <td>-0.044342</td>\n",
       "      <td>-0.049499</td>\n",
       "      <td>-0.047328</td>\n",
       "      <td>-0.029159</td>\n",
       "      <td>-0.053178</td>\n",
       "    </tr>\n",
       "    <tr>\n",
       "      <th>ad_type</th>\n",
       "      <td>NaN</td>\n",
       "      <td>NaN</td>\n",
       "      <td>NaN</td>\n",
       "      <td>NaN</td>\n",
       "      <td>NaN</td>\n",
       "      <td>NaN</td>\n",
       "      <td>NaN</td>\n",
       "      <td>NaN</td>\n",
       "      <td>NaN</td>\n",
       "      <td>NaN</td>\n",
       "    </tr>\n",
       "    <tr>\n",
       "      <th>energy_label</th>\n",
       "      <td>0.036030</td>\n",
       "      <td>NaN</td>\n",
       "      <td>1.000000</td>\n",
       "      <td>-0.741742</td>\n",
       "      <td>0.052593</td>\n",
       "      <td>0.065122</td>\n",
       "      <td>0.077613</td>\n",
       "      <td>0.099158</td>\n",
       "      <td>-0.741742</td>\n",
       "      <td>-0.824377</td>\n",
       "    </tr>\n",
       "    <tr>\n",
       "      <th>from_year</th>\n",
       "      <td>-0.029159</td>\n",
       "      <td>NaN</td>\n",
       "      <td>-0.741742</td>\n",
       "      <td>1.000000</td>\n",
       "      <td>-0.005621</td>\n",
       "      <td>-0.027600</td>\n",
       "      <td>-0.048268</td>\n",
       "      <td>-0.079370</td>\n",
       "      <td>1.000000</td>\n",
       "      <td>0.843230</td>\n",
       "    </tr>\n",
       "    <tr>\n",
       "      <th>lat</th>\n",
       "      <td>-0.125344</td>\n",
       "      <td>NaN</td>\n",
       "      <td>0.052593</td>\n",
       "      <td>-0.005621</td>\n",
       "      <td>1.000000</td>\n",
       "      <td>0.705493</td>\n",
       "      <td>0.054721</td>\n",
       "      <td>0.004307</td>\n",
       "      <td>-0.005621</td>\n",
       "      <td>-0.051280</td>\n",
       "    </tr>\n",
       "    <tr>\n",
       "      <th>lon</th>\n",
       "      <td>-0.044342</td>\n",
       "      <td>NaN</td>\n",
       "      <td>0.065122</td>\n",
       "      <td>-0.027600</td>\n",
       "      <td>0.705493</td>\n",
       "      <td>1.000000</td>\n",
       "      <td>0.002025</td>\n",
       "      <td>-0.012964</td>\n",
       "      <td>-0.027600</td>\n",
       "      <td>-0.056868</td>\n",
       "    </tr>\n",
       "    <tr>\n",
       "      <th>number_of_bedrooms</th>\n",
       "      <td>-0.049499</td>\n",
       "      <td>NaN</td>\n",
       "      <td>0.077613</td>\n",
       "      <td>-0.048268</td>\n",
       "      <td>0.054721</td>\n",
       "      <td>0.002025</td>\n",
       "      <td>1.000000</td>\n",
       "      <td>0.748565</td>\n",
       "      <td>-0.048268</td>\n",
       "      <td>-0.095847</td>\n",
       "    </tr>\n",
       "    <tr>\n",
       "      <th>size_from</th>\n",
       "      <td>-0.047328</td>\n",
       "      <td>NaN</td>\n",
       "      <td>0.099158</td>\n",
       "      <td>-0.079370</td>\n",
       "      <td>0.004307</td>\n",
       "      <td>-0.012964</td>\n",
       "      <td>0.748565</td>\n",
       "      <td>1.000000</td>\n",
       "      <td>-0.079370</td>\n",
       "      <td>-0.153589</td>\n",
       "    </tr>\n",
       "    <tr>\n",
       "      <th>to_year</th>\n",
       "      <td>-0.029159</td>\n",
       "      <td>NaN</td>\n",
       "      <td>-0.741742</td>\n",
       "      <td>1.000000</td>\n",
       "      <td>-0.005621</td>\n",
       "      <td>-0.027600</td>\n",
       "      <td>-0.048268</td>\n",
       "      <td>-0.079370</td>\n",
       "      <td>1.000000</td>\n",
       "      <td>0.843230</td>\n",
       "    </tr>\n",
       "    <tr>\n",
       "      <th>byggear_cat</th>\n",
       "      <td>-0.053178</td>\n",
       "      <td>NaN</td>\n",
       "      <td>-0.824377</td>\n",
       "      <td>0.843230</td>\n",
       "      <td>-0.051280</td>\n",
       "      <td>-0.056868</td>\n",
       "      <td>-0.095847</td>\n",
       "      <td>-0.153589</td>\n",
       "      <td>0.843230</td>\n",
       "      <td>1.000000</td>\n",
       "    </tr>\n",
       "  </tbody>\n",
       "</table>\n",
       "</div>"
      ],
      "text/plain": [
       "                       ad_id  ad_type  energy_label  from_year       lat       lon  number_of_bedrooms  size_from   to_year  byggear_cat\n",
       "ad_id               1.000000      NaN      0.036030  -0.029159 -0.125344 -0.044342           -0.049499  -0.047328 -0.029159    -0.053178\n",
       "ad_type                  NaN      NaN           NaN        NaN       NaN       NaN                 NaN        NaN       NaN          NaN\n",
       "energy_label        0.036030      NaN      1.000000  -0.741742  0.052593  0.065122            0.077613   0.099158 -0.741742    -0.824377\n",
       "from_year          -0.029159      NaN     -0.741742   1.000000 -0.005621 -0.027600           -0.048268  -0.079370  1.000000     0.843230\n",
       "lat                -0.125344      NaN      0.052593  -0.005621  1.000000  0.705493            0.054721   0.004307 -0.005621    -0.051280\n",
       "lon                -0.044342      NaN      0.065122  -0.027600  0.705493  1.000000            0.002025  -0.012964 -0.027600    -0.056868\n",
       "number_of_bedrooms -0.049499      NaN      0.077613  -0.048268  0.054721  0.002025            1.000000   0.748565 -0.048268    -0.095847\n",
       "size_from          -0.047328      NaN      0.099158  -0.079370  0.004307 -0.012964            0.748565   1.000000 -0.079370    -0.153589\n",
       "to_year            -0.029159      NaN     -0.741742   1.000000 -0.005621 -0.027600           -0.048268  -0.079370  1.000000     0.843230\n",
       "byggear_cat        -0.053178      NaN     -0.824377   0.843230 -0.051280 -0.056868           -0.095847  -0.153589  0.843230     1.000000"
      ]
     },
     "execution_count": 29,
     "metadata": {},
     "output_type": "execute_result"
    }
   ],
   "source": [
    "df.corr()"
   ]
  },
  {
   "cell_type": "markdown",
   "id": "e1f60937",
   "metadata": {},
   "source": [
    "### Impact of the ownership"
   ]
  },
  {
   "cell_type": "code",
   "execution_count": 30,
   "id": "cf06488d",
   "metadata": {},
   "outputs": [],
   "source": [
    "dict_ownership = {'Eier (Selveier)':1,'Andel':2,'Aksje':3,'Obligasjon':4}"
   ]
  },
  {
   "cell_type": "code",
   "execution_count": 31,
   "id": "64ce4603",
   "metadata": {},
   "outputs": [],
   "source": [
    "df['ownership_cat'] = df['owner_type_description'].map(dict_ownership)"
   ]
  },
  {
   "cell_type": "markdown",
   "id": "d16bf85c",
   "metadata": {},
   "source": [
    "## Get Elevation"
   ]
  },
  {
   "cell_type": "code",
   "execution_count": null,
   "id": "96d79572",
   "metadata": {},
   "outputs": [],
   "source": [
    "def GetElevation(coordinates):\n",
    "    lat, lon = coordinates.split(',')\n",
    "    url = f\"https://maps.googleapis.com/maps/api/elevation/json?locations={lat},{lon}&key={GOOGLE_API}\"\n",
    "\n",
    "    payload={}\n",
    "    headers = {}\n",
    "\n",
    "    response = requests.request(\"GET\", url, headers=headers, data=payload)\n",
    "    #print(response.text)\n",
    "    response=response.json()\n",
    "    return response['results'][0]['elevation']\n",
    "\n",
    "df['lat,lon'] = df['lat'].astype(str)+','+ df['lon'].astype(str)\n",
    "\n",
    "#RUN ONLY if needed, takes 20min ( 8 ads per seconds)\n",
    "df['elevation'] = df['lat,lon'].apply(lambda x: GetElevation(x))\n",
    "\n"
   ]
  },
  {
   "cell_type": "markdown",
   "id": "c4b64a55",
   "metadata": {},
   "source": [
    "## Removing features\n",
    "\n"
   ]
  },
  {
   "cell_type": "code",
   "execution_count": 33,
   "id": "1844dd96",
   "metadata": {},
   "outputs": [
    {
     "data": {
      "text/plain": [
       "Index(['Location', 'ad_id', 'ad_link', 'ad_type', 'energy_label', 'from_year', 'lat', 'local_area_name', 'lon', 'number_of_bedrooms',\n",
       "       'owner_type_description', 'property_type_description', 'size_from', 'to_year', 'type', 'byggear_cat', 'ownership_cat', 'lat,lon'],\n",
       "      dtype='object')"
      ]
     },
     "execution_count": 33,
     "metadata": {},
     "output_type": "execute_result"
    }
   ],
   "source": [
    "df.columns"
   ]
  },
  {
   "cell_type": "code",
   "execution_count": 34,
   "id": "d45bc537",
   "metadata": {},
   "outputs": [],
   "source": [
    "df.drop(['from_year','to_year','number_of_bedrooms','ad_type','owner_type_description','local_area_name'],axis=1, inplace = True)"
   ]
  },
  {
   "cell_type": "markdown",
   "id": "0626b860",
   "metadata": {},
   "source": [
    "## output\n",
    "\n"
   ]
  },
  {
   "cell_type": "code",
   "execution_count": null,
   "id": "99e86206",
   "metadata": {},
   "outputs": [],
   "source": [
    "df.to_csv('output_cleaning_step.csv')"
   ]
  },
  {
   "cell_type": "code",
   "execution_count": null,
   "id": "00998bda",
   "metadata": {},
   "outputs": [],
   "source": []
  }
 ],
 "metadata": {
  "kernelspec": {
   "display_name": "Python 3 (ipykernel)",
   "language": "python",
   "name": "python3"
  },
  "language_info": {
   "codemirror_mode": {
    "name": "ipython",
    "version": 3
   },
   "file_extension": ".py",
   "mimetype": "text/x-python",
   "name": "python",
   "nbconvert_exporter": "python",
   "pygments_lexer": "ipython3",
   "version": "3.8.9"
  }
 },
 "nbformat": 4,
 "nbformat_minor": 5
}
