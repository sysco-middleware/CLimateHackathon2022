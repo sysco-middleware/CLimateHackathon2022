{
 "cells": [
  {
   "cell_type": "code",
   "execution_count": 1,
   "id": "0bfc5b32",
   "metadata": {},
   "outputs": [
    {
     "name": "stdout",
     "output_type": "stream",
     "text": [
      "INFO: Pandarallel will run on 4 workers.\n",
      "INFO: Pandarallel will use standard multiprocessing data transfer (pipe) to transfer data between the main process and workers.\n",
      "\n",
      "WARNING: You are on Windows. If you detect any issue with pandarallel, be sure you checked out the Troubleshooting page:\n",
      "https://nalepae.github.io/pandarallel/troubleshooting/\n"
     ]
    }
   ],
   "source": [
    "import pandas as pd\n",
    "import glob\n",
    "import json \n",
    "import numpy as np\n",
    "from pandarallel import pandarallel\n",
    "import requests\n",
    "# Initialization\n",
    "pandarallel.initialize(nb_workers=4, use_memory_fs=False)\n",
    "import matplotlib.pyplot as plt\n",
    "\n",
    "pd.options.display.width = 150"
   ]
  },
  {
   "cell_type": "code",
   "execution_count": 2,
   "id": "7d126156",
   "metadata": {},
   "outputs": [
    {
     "ename": "FileNotFoundError",
     "evalue": "[Errno 2] No such file or directory: 'Google_api_key.txt'",
     "output_type": "error",
     "traceback": [
      "\u001b[1;31m---------------------------------------------------------------------------\u001b[0m",
      "\u001b[1;31mFileNotFoundError\u001b[0m                         Traceback (most recent call last)",
      "\u001b[1;32m~\\AppData\\Local\\Temp/ipykernel_13140/741748934.py\u001b[0m in \u001b[0;36m<module>\u001b[1;34m\u001b[0m\n\u001b[0;32m      1\u001b[0m \u001b[0mGOOGLE_API\u001b[0m\u001b[1;33m=\u001b[0m \u001b[1;34m\"\"\u001b[0m\u001b[1;33m\u001b[0m\u001b[1;33m\u001b[0m\u001b[0m\n\u001b[1;32m----> 2\u001b[1;33m \u001b[1;32mwith\u001b[0m \u001b[0mopen\u001b[0m\u001b[1;33m(\u001b[0m\u001b[1;34m\"Google_api_key.txt\"\u001b[0m\u001b[1;33m,\u001b[0m \u001b[1;34m'r'\u001b[0m\u001b[1;33m)\u001b[0m \u001b[1;32mas\u001b[0m \u001b[0mf\u001b[0m\u001b[1;33m:\u001b[0m\u001b[1;33m\u001b[0m\u001b[1;33m\u001b[0m\u001b[0m\n\u001b[0m\u001b[0;32m      3\u001b[0m             \u001b[1;31m# It's assumed our file contains a single line,\u001b[0m\u001b[1;33m\u001b[0m\u001b[1;33m\u001b[0m\u001b[0m\n\u001b[0;32m      4\u001b[0m             \u001b[1;31m# with our API key\u001b[0m\u001b[1;33m\u001b[0m\u001b[1;33m\u001b[0m\u001b[0m\n\u001b[0;32m      5\u001b[0m             \u001b[0mGOOGLE_API\u001b[0m \u001b[1;33m=\u001b[0m \u001b[0mf\u001b[0m\u001b[1;33m.\u001b[0m\u001b[0mread\u001b[0m\u001b[1;33m(\u001b[0m\u001b[1;33m)\u001b[0m\u001b[1;33m.\u001b[0m\u001b[0mstrip\u001b[0m\u001b[1;33m(\u001b[0m\u001b[1;33m)\u001b[0m\u001b[1;33m\u001b[0m\u001b[1;33m\u001b[0m\u001b[0m\n",
      "\u001b[1;31mFileNotFoundError\u001b[0m: [Errno 2] No such file or directory: 'Google_api_key.txt'"
     ]
    }
   ],
   "source": [
    "GOOGLE_API= \"\"\n",
    "with open(\"Google_api_key.txt\", 'r') as f:\n",
    "            # It's assumed our file contains a single line,\n",
    "            # with our API key\n",
    "            GOOGLE_API = f.read().strip()"
   ]
  },
  {
   "cell_type": "markdown",
   "id": "8bbc3044",
   "metadata": {},
   "source": [
    "### Concatenante the data \n",
    "from the Logic App workflow, we get several json file, hence need to concatenate all together"
   ]
  },
  {
   "cell_type": "code",
   "execution_count": 2,
   "id": "cf8338c9",
   "metadata": {},
   "outputs": [],
   "source": [
    "# concatenate the json files\n",
    "df = pd.read_json('.\\WithCoordinates_Finnyeardata_WholeNorway\\WithCoordinates_2021_Finnyeardata_WholeNorway_2021_label_7.json')"
   ]
  },
  {
   "cell_type": "code",
   "execution_count": 3,
   "id": "f2f16e2d",
   "metadata": {},
   "outputs": [
    {
     "data": {
      "text/html": [
       "<div>\n",
       "<style scoped>\n",
       "    .dataframe tbody tr th:only-of-type {\n",
       "        vertical-align: middle;\n",
       "    }\n",
       "\n",
       "    .dataframe tbody tr th {\n",
       "        vertical-align: top;\n",
       "    }\n",
       "\n",
       "    .dataframe thead th {\n",
       "        text-align: right;\n",
       "    }\n",
       "</style>\n",
       "<table border=\"1\" class=\"dataframe\">\n",
       "  <thead>\n",
       "    <tr style=\"text-align: right;\">\n",
       "      <th></th>\n",
       "      <th>Location</th>\n",
       "      <th>ad_id</th>\n",
       "      <th>ad_link</th>\n",
       "      <th>ad_type</th>\n",
       "      <th>energy_label</th>\n",
       "      <th>from_year</th>\n",
       "      <th>lat</th>\n",
       "      <th>local_area_name</th>\n",
       "      <th>lon</th>\n",
       "      <th>number_of_bedrooms</th>\n",
       "      <th>owner_type_description</th>\n",
       "      <th>property_type_description</th>\n",
       "      <th>size_from</th>\n",
       "      <th>to_year</th>\n",
       "      <th>type</th>\n",
       "    </tr>\n",
       "  </thead>\n",
       "  <tbody>\n",
       "    <tr>\n",
       "      <th>0</th>\n",
       "      <td>SOFIENBERGGATA 23, Oslo</td>\n",
       "      <td>256360471</td>\n",
       "      <td>https://www.finn.no/realestate/homes/ad.html?f...</td>\n",
       "      <td>1</td>\n",
       "      <td>7</td>\n",
       "      <td>2021</td>\n",
       "      <td>59.92202</td>\n",
       "      <td>NaN</td>\n",
       "      <td>10.76317</td>\n",
       "      <td>0</td>\n",
       "      <td>Eier (Selveier)</td>\n",
       "      <td>Garasje/Parkering</td>\n",
       "      <td>10</td>\n",
       "      <td>2021</td>\n",
       "      <td>realestate</td>\n",
       "    </tr>\n",
       "    <tr>\n",
       "      <th>1</th>\n",
       "      <td>Ørstrandveien 62, Svensby</td>\n",
       "      <td>238899888</td>\n",
       "      <td>https://www.finn.no/realestate/homes/ad.html?f...</td>\n",
       "      <td>1</td>\n",
       "      <td>7</td>\n",
       "      <td>2021</td>\n",
       "      <td>69.81904</td>\n",
       "      <td>NaN</td>\n",
       "      <td>19.98484</td>\n",
       "      <td>1</td>\n",
       "      <td>Eier (Selveier)</td>\n",
       "      <td>Gårdsbruk/Småbruk</td>\n",
       "      <td>63</td>\n",
       "      <td>2021</td>\n",
       "      <td>realestate</td>\n",
       "    </tr>\n",
       "  </tbody>\n",
       "</table>\n",
       "</div>"
      ],
      "text/plain": [
       "                    Location      ad_id                                            ad_link  ad_type  energy_label  from_year       lat  \\\n",
       "0    SOFIENBERGGATA 23, Oslo  256360471  https://www.finn.no/realestate/homes/ad.html?f...        1             7       2021  59.92202   \n",
       "1  Ørstrandveien 62, Svensby  238899888  https://www.finn.no/realestate/homes/ad.html?f...        1             7       2021  69.81904   \n",
       "\n",
       "   local_area_name       lon  number_of_bedrooms owner_type_description property_type_description  size_from  to_year        type  \n",
       "0              NaN  10.76317                   0        Eier (Selveier)         Garasje/Parkering         10     2021  realestate  \n",
       "1              NaN  19.98484                   1        Eier (Selveier)         Gårdsbruk/Småbruk         63     2021  realestate  "
      ]
     },
     "execution_count": 3,
     "metadata": {},
     "output_type": "execute_result"
    }
   ],
   "source": [
    "df.head()"
   ]
  },
  {
   "cell_type": "code",
   "execution_count": 4,
   "id": "1a86da92",
   "metadata": {},
   "outputs": [],
   "source": [
    "data = []\n",
    "\n",
    "for f in glob.glob(\".\\WithCoordinates_Finnyeardata_WholeNorway\\*.json\"):\n",
    "\n",
    "    with open(f,) as infile:\n",
    "\n",
    "        data.extend(json.load(infile))\n",
    "\n",
    "\n",
    "with open(\"merged_file.json\",'w') as outfile:\n",
    "\n",
    "    json.dump(data, outfile)\n",
    "\n"
   ]
  },
  {
   "cell_type": "code",
   "execution_count": 5,
   "id": "abc86cc7",
   "metadata": {},
   "outputs": [
    {
     "data": {
      "text/plain": [
       "6961"
      ]
     },
     "execution_count": 5,
     "metadata": {},
     "output_type": "execute_result"
    }
   ],
   "source": [
    "len(data)"
   ]
  },
  {
   "cell_type": "markdown",
   "id": "b632d230",
   "metadata": {},
   "source": [
    "### Data Cleaning"
   ]
  },
  {
   "cell_type": "code",
   "execution_count": 6,
   "id": "b77c40cd",
   "metadata": {},
   "outputs": [],
   "source": [
    "df = pd.DataFrame(data)"
   ]
  },
  {
   "cell_type": "code",
   "execution_count": 7,
   "id": "5d18b916",
   "metadata": {},
   "outputs": [
    {
     "data": {
      "text/html": [
       "<div>\n",
       "<style scoped>\n",
       "    .dataframe tbody tr th:only-of-type {\n",
       "        vertical-align: middle;\n",
       "    }\n",
       "\n",
       "    .dataframe tbody tr th {\n",
       "        vertical-align: top;\n",
       "    }\n",
       "\n",
       "    .dataframe thead th {\n",
       "        text-align: right;\n",
       "    }\n",
       "</style>\n",
       "<table border=\"1\" class=\"dataframe\">\n",
       "  <thead>\n",
       "    <tr style=\"text-align: right;\">\n",
       "      <th></th>\n",
       "      <th>Location</th>\n",
       "      <th>ad_id</th>\n",
       "      <th>ad_link</th>\n",
       "      <th>ad_type</th>\n",
       "      <th>energy_label</th>\n",
       "      <th>from_year</th>\n",
       "      <th>lat</th>\n",
       "      <th>local_area_name</th>\n",
       "      <th>lon</th>\n",
       "      <th>number_of_bedrooms</th>\n",
       "      <th>owner_type_description</th>\n",
       "      <th>property_type_description</th>\n",
       "      <th>size_from</th>\n",
       "      <th>to_year</th>\n",
       "      <th>type</th>\n",
       "    </tr>\n",
       "  </thead>\n",
       "  <tbody>\n",
       "    <tr>\n",
       "      <th>0</th>\n",
       "      <td>Lundadalsvegen 259, Lundamo</td>\n",
       "      <td>260428160</td>\n",
       "      <td>https://www.finn.no/realestate/homes/ad.html?f...</td>\n",
       "      <td>1</td>\n",
       "      <td>6</td>\n",
       "      <td>1850</td>\n",
       "      <td>63.13540</td>\n",
       "      <td>LUNDAMO</td>\n",
       "      <td>10.31820</td>\n",
       "      <td>3</td>\n",
       "      <td>Eier (Selveier)</td>\n",
       "      <td>GÃ¥rdsbruk/SmÃ¥bruk</td>\n",
       "      <td>128.0</td>\n",
       "      <td>1850</td>\n",
       "      <td>realestate</td>\n",
       "    </tr>\n",
       "    <tr>\n",
       "      <th>1</th>\n",
       "      <td>Norumveien 58, SÃ¸rum</td>\n",
       "      <td>259128262</td>\n",
       "      <td>https://www.finn.no/realestate/homes/ad.html?f...</td>\n",
       "      <td>1</td>\n",
       "      <td>6</td>\n",
       "      <td>1850</td>\n",
       "      <td>60.03278</td>\n",
       "      <td>SÃ¸rum</td>\n",
       "      <td>11.22700</td>\n",
       "      <td>3</td>\n",
       "      <td>Eier (Selveier)</td>\n",
       "      <td>GÃ¥rdsbruk/SmÃ¥bruk</td>\n",
       "      <td>189.0</td>\n",
       "      <td>1850</td>\n",
       "      <td>realestate</td>\n",
       "    </tr>\n",
       "    <tr>\n",
       "      <th>2</th>\n",
       "      <td>Jahrenveien 79, Fetsund</td>\n",
       "      <td>260954618</td>\n",
       "      <td>https://www.finn.no/realestate/homes/ad.html?f...</td>\n",
       "      <td>1</td>\n",
       "      <td>7</td>\n",
       "      <td>1850</td>\n",
       "      <td>59.90740</td>\n",
       "      <td>Fetsund</td>\n",
       "      <td>11.16590</td>\n",
       "      <td>1</td>\n",
       "      <td>Eier (Selveier)</td>\n",
       "      <td>GÃ¥rdsbruk/SmÃ¥bruk</td>\n",
       "      <td>125.0</td>\n",
       "      <td>1850</td>\n",
       "      <td>realestate</td>\n",
       "    </tr>\n",
       "    <tr>\n",
       "      <th>3</th>\n",
       "      <td>Borreveien 136 og 138, Horten</td>\n",
       "      <td>252179712</td>\n",
       "      <td>https://www.finn.no/realestate/homes/ad.html?f...</td>\n",
       "      <td>1</td>\n",
       "      <td>7</td>\n",
       "      <td>1850</td>\n",
       "      <td>59.38591</td>\n",
       "      <td>None</td>\n",
       "      <td>10.46539</td>\n",
       "      <td>6</td>\n",
       "      <td>Eier (Selveier)</td>\n",
       "      <td>Enebolig</td>\n",
       "      <td>343.0</td>\n",
       "      <td>1850</td>\n",
       "      <td>realestate</td>\n",
       "    </tr>\n",
       "    <tr>\n",
       "      <th>4</th>\n",
       "      <td>LÃ¸landsveien 429, Lindesnes</td>\n",
       "      <td>260891785</td>\n",
       "      <td>https://www.finn.no/realestate/homes/ad.html?f...</td>\n",
       "      <td>1</td>\n",
       "      <td>7</td>\n",
       "      <td>1850</td>\n",
       "      <td>58.20019</td>\n",
       "      <td>None</td>\n",
       "      <td>7.33795</td>\n",
       "      <td>2</td>\n",
       "      <td>Eier (Selveier)</td>\n",
       "      <td>Enebolig</td>\n",
       "      <td>84.0</td>\n",
       "      <td>1850</td>\n",
       "      <td>realestate</td>\n",
       "    </tr>\n",
       "  </tbody>\n",
       "</table>\n",
       "</div>"
      ],
      "text/plain": [
       "                        Location      ad_id                                            ad_link  ad_type  energy_label  from_year       lat  \\\n",
       "0    Lundadalsvegen 259, Lundamo  260428160  https://www.finn.no/realestate/homes/ad.html?f...        1             6       1850  63.13540   \n",
       "1          Norumveien 58, SÃ¸rum  259128262  https://www.finn.no/realestate/homes/ad.html?f...        1             6       1850  60.03278   \n",
       "2        Jahrenveien 79, Fetsund  260954618  https://www.finn.no/realestate/homes/ad.html?f...        1             7       1850  59.90740   \n",
       "3  Borreveien 136 og 138, Horten  252179712  https://www.finn.no/realestate/homes/ad.html?f...        1             7       1850  59.38591   \n",
       "4   LÃ¸landsveien 429, Lindesnes  260891785  https://www.finn.no/realestate/homes/ad.html?f...        1             7       1850  58.20019   \n",
       "\n",
       "  local_area_name       lon  number_of_bedrooms owner_type_description property_type_description  size_from  to_year        type  \n",
       "0         LUNDAMO  10.31820                   3        Eier (Selveier)       GÃ¥rdsbruk/SmÃ¥bruk      128.0     1850  realestate  \n",
       "1          SÃ¸rum  11.22700                   3        Eier (Selveier)       GÃ¥rdsbruk/SmÃ¥bruk      189.0     1850  realestate  \n",
       "2         Fetsund  11.16590                   1        Eier (Selveier)       GÃ¥rdsbruk/SmÃ¥bruk      125.0     1850  realestate  \n",
       "3            None  10.46539                   6        Eier (Selveier)                  Enebolig      343.0     1850  realestate  \n",
       "4            None   7.33795                   2        Eier (Selveier)                  Enebolig       84.0     1850  realestate  "
      ]
     },
     "execution_count": 7,
     "metadata": {},
     "output_type": "execute_result"
    }
   ],
   "source": [
    "df.head()"
   ]
  },
  {
   "cell_type": "markdown",
   "id": "119d427e",
   "metadata": {},
   "source": [
    "### keep only the private housing: \n",
    "\n",
    "In the current dataset there is 'Leilighet', 'Leilighet', 'Rekkehus', 'Tomannsbolig',\n",
    "       'Gårdsbruk/Småbruk', 'Bygård/Flermannsbolig', 'Andre',\n",
    "       'Produksjon/Industri', 'Annet fritid', 'Garasje/Parkering'\n",
    "       \n",
    "**We keep only Leilighet, Enebolig, Rekkehus, Tomannsbolig.**"
   ]
  },
  {
   "cell_type": "code",
   "execution_count": 8,
   "id": "ddaffa7e",
   "metadata": {},
   "outputs": [],
   "source": [
    "for element in ['Gårdsbruk/Småbruk', 'Bygård/Flermannsbolig', 'Andre', \n",
    "       'Produksjon/Industri', 'Annet fritid', 'Garasje/Parkering']:\n",
    "    df.drop(df[df['property_type_description']==element].index,inplace=True)"
   ]
  },
  {
   "cell_type": "code",
   "execution_count": 9,
   "id": "1a35c32e",
   "metadata": {
    "scrolled": false
   },
   "outputs": [
    {
     "data": {
      "text/plain": [
       "Leilighet                 3301\n",
       "Enebolig                  2711\n",
       "Tomannsbolig               460\n",
       "Rekkehus                   385\n",
       "GÃ¥rdsbruk/SmÃ¥bruk         66\n",
       "BygÃ¥rd/Flermannsbolig      10\n",
       "Name: property_type_description, dtype: int64"
      ]
     },
     "execution_count": 9,
     "metadata": {},
     "output_type": "execute_result"
    }
   ],
   "source": [
    "df['property_type_description'].value_counts()"
   ]
  },
  {
   "cell_type": "code",
   "execution_count": 10,
   "id": "d97139a4",
   "metadata": {},
   "outputs": [
    {
     "data": {
      "text/plain": [
       "Eier (Selveier)    5428\n",
       "Andel              1445\n",
       "Aksje                59\n",
       "Obligasjon            1\n",
       "Name: owner_type_description, dtype: int64"
      ]
     },
     "execution_count": 10,
     "metadata": {},
     "output_type": "execute_result"
    }
   ],
   "source": [
    "df['owner_type_description'].value_counts()"
   ]
  },
  {
   "cell_type": "markdown",
   "id": "b9df1c9e",
   "metadata": {},
   "source": [
    "## energy labels \n",
    "\n",
    "dict ={'A':1,'B':2,'C':3,'D':4,'E':5,'F':6,'G':7}"
   ]
  },
  {
   "cell_type": "code",
   "execution_count": 12,
   "id": "4b49a062",
   "metadata": {},
   "outputs": [
    {
     "data": {
      "image/png": "[encoded data removed]",
      "text/plain": [
       "<Figure size 576x432 with 1 Axes>"
      ]
     },
     "metadata": {},
     "output_type": "display_data"
    }
   ],
   "source": [
    "df['energy_label'].value_counts().sort_index().plot.bar(figsize=(8,6))\n",
    "plt.style.use(\"dark_background\")\n",
    "plt.title('# of goods by energy label')\n",
    "plt.xlabel('energy label: A -> G')\n",
    "plt.ylabel('# of ads')\n",
    "plt.legend(labelcolor = \"white\")\n",
    "\n",
    "plt.savefig('../illustrations/nr_ads_by_energetic_labels.png')"
   ]
  },
  {
   "cell_type": "markdown",
   "id": "79368a4c",
   "metadata": {},
   "source": [
    "### Categorization of the ads by the year of the building\n",
    "\n",
    "- The baseline correlation is -0.736159 between the year of the building and the energy label \n",
    "- we increase it to 75% if define a cut off on 1901 and categorising by 5 years \n",
    "- cut off ≈ 1950 / 1960 => 82% and then need to play with the categorization ( 1 to 10 years ? )\n",
    "\n",
    "**TEK**\n",
    "In Norway the laws for the buildings were: TEK69 TEK87, TEK97,TEK07,TEK10, TEK17"
   ]
  },
  {
   "cell_type": "code",
   "execution_count": 14,
   "id": "11384a68",
   "metadata": {},
   "outputs": [],
   "source": [
    "def CategoriseBuilding(year):\n",
    "    if year < 1969:\n",
    "        byggear_cat = 0\n",
    "    elif year < 1987:\n",
    "        byggear_cat = 1\n",
    "    elif year < 1997:\n",
    "        byggear_cat = 2\n",
    "    elif year < 2007:\n",
    "        byggear_cat = 3\n",
    "    elif year < 2010:\n",
    "        byggear_cat = 4\n",
    "    elif year < 2017:\n",
    "        byggear_cat = 5\n",
    "    elif year >= 2017:\n",
    "        byggear_cat = 6\n",
    "        \n",
    "    return byggear_cat\n"
   ]
  },
  {
   "cell_type": "code",
   "execution_count": 15,
   "id": "8dd57607",
   "metadata": {},
   "outputs": [],
   "source": [
    "df['byggear_cat'] = df['to_year'].apply(lambda x: CategoriseBuilding(x))"
   ]
  },
  {
   "cell_type": "code",
   "execution_count": 17,
   "id": "44ba3412",
   "metadata": {},
   "outputs": [],
   "source": [
    "df2= pd.DataFrame(df['byggear_cat'].value_counts())"
   ]
  },
  {
   "cell_type": "code",
   "execution_count": 18,
   "id": "ce2b12cf",
   "metadata": {},
   "outputs": [],
   "source": [
    "df2 = df2.sort_index()"
   ]
  },
  {
   "cell_type": "code",
   "execution_count": 19,
   "id": "9ebb682b",
   "metadata": {},
   "outputs": [],
   "source": [
    "df2= df2.rename(index={0:'no TEK',1:'TEK69',2:'TEK87',3:'TEK97',4:'TEK07',5:'TEK10',6:'TEK17'})"
   ]
  },
  {
   "cell_type": "code",
   "execution_count": 20,
   "id": "786c6a1e",
   "metadata": {},
   "outputs": [
    {
     "data": {
      "image/png": "[encoded data removed]",
      "text/plain": [
       "<Figure size 576x288 with 1 Axes>"
      ]
     },
     "metadata": {},
     "output_type": "display_data"
    }
   ],
   "source": [
    "df2.plot.bar(figsize=(8,4))\n",
    "plt.style.use(\"dark_background\")\n",
    "plt.title('Proportion of ads in the dataset based on TEK laws')\n",
    "plt.xlabel('the different TEK in Norway')\n",
    "plt.ylabel('# of ads')\n",
    "\n",
    "plt.savefig('../illustrations/nr_ads_by_TEK_cat.png')"
   ]
  },
  {
   "cell_type": "markdown",
   "id": "20c36bbb",
   "metadata": {},
   "source": [
    "###  analysis of the energy label population within the different TEKsubsets"
   ]
  },
  {
   "cell_type": "code",
   "execution_count": 21,
   "id": "98645701",
   "metadata": {},
   "outputs": [
    {
     "data": {
      "text/html": [
       "<div>\n",
       "<style scoped>\n",
       "    .dataframe tbody tr th:only-of-type {\n",
       "        vertical-align: middle;\n",
       "    }\n",
       "\n",
       "    .dataframe tbody tr th {\n",
       "        vertical-align: top;\n",
       "    }\n",
       "\n",
       "    .dataframe thead th {\n",
       "        text-align: right;\n",
       "    }\n",
       "</style>\n",
       "<table border=\"1\" class=\"dataframe\">\n",
       "  <thead>\n",
       "    <tr style=\"text-align: right;\">\n",
       "      <th></th>\n",
       "      <th>Location</th>\n",
       "      <th>ad_id</th>\n",
       "      <th>ad_link</th>\n",
       "      <th>ad_type</th>\n",
       "      <th>energy_label</th>\n",
       "      <th>from_year</th>\n",
       "      <th>lat</th>\n",
       "      <th>local_area_name</th>\n",
       "      <th>lon</th>\n",
       "      <th>number_of_bedrooms</th>\n",
       "      <th>owner_type_description</th>\n",
       "      <th>property_type_description</th>\n",
       "      <th>size_from</th>\n",
       "      <th>to_year</th>\n",
       "      <th>type</th>\n",
       "      <th>byggear_cat</th>\n",
       "    </tr>\n",
       "  </thead>\n",
       "  <tbody>\n",
       "    <tr>\n",
       "      <th>0</th>\n",
       "      <td>Lundadalsvegen 259, Lundamo</td>\n",
       "      <td>260428160</td>\n",
       "      <td>https://www.finn.no/realestate/homes/ad.html?f...</td>\n",
       "      <td>1</td>\n",
       "      <td>6</td>\n",
       "      <td>1850</td>\n",
       "      <td>63.13540</td>\n",
       "      <td>LUNDAMO</td>\n",
       "      <td>10.31820</td>\n",
       "      <td>3</td>\n",
       "      <td>Eier (Selveier)</td>\n",
       "      <td>GÃ¥rdsbruk/SmÃ¥bruk</td>\n",
       "      <td>128.0</td>\n",
       "      <td>1850</td>\n",
       "      <td>realestate</td>\n",
       "      <td>0</td>\n",
       "    </tr>\n",
       "    <tr>\n",
       "      <th>1</th>\n",
       "      <td>Norumveien 58, SÃ¸rum</td>\n",
       "      <td>259128262</td>\n",
       "      <td>https://www.finn.no/realestate/homes/ad.html?f...</td>\n",
       "      <td>1</td>\n",
       "      <td>6</td>\n",
       "      <td>1850</td>\n",
       "      <td>60.03278</td>\n",
       "      <td>SÃ¸rum</td>\n",
       "      <td>11.22700</td>\n",
       "      <td>3</td>\n",
       "      <td>Eier (Selveier)</td>\n",
       "      <td>GÃ¥rdsbruk/SmÃ¥bruk</td>\n",
       "      <td>189.0</td>\n",
       "      <td>1850</td>\n",
       "      <td>realestate</td>\n",
       "      <td>0</td>\n",
       "    </tr>\n",
       "    <tr>\n",
       "      <th>2</th>\n",
       "      <td>Jahrenveien 79, Fetsund</td>\n",
       "      <td>260954618</td>\n",
       "      <td>https://www.finn.no/realestate/homes/ad.html?f...</td>\n",
       "      <td>1</td>\n",
       "      <td>7</td>\n",
       "      <td>1850</td>\n",
       "      <td>59.90740</td>\n",
       "      <td>Fetsund</td>\n",
       "      <td>11.16590</td>\n",
       "      <td>1</td>\n",
       "      <td>Eier (Selveier)</td>\n",
       "      <td>GÃ¥rdsbruk/SmÃ¥bruk</td>\n",
       "      <td>125.0</td>\n",
       "      <td>1850</td>\n",
       "      <td>realestate</td>\n",
       "      <td>0</td>\n",
       "    </tr>\n",
       "    <tr>\n",
       "      <th>3</th>\n",
       "      <td>Borreveien 136 og 138, Horten</td>\n",
       "      <td>252179712</td>\n",
       "      <td>https://www.finn.no/realestate/homes/ad.html?f...</td>\n",
       "      <td>1</td>\n",
       "      <td>7</td>\n",
       "      <td>1850</td>\n",
       "      <td>59.38591</td>\n",
       "      <td>None</td>\n",
       "      <td>10.46539</td>\n",
       "      <td>6</td>\n",
       "      <td>Eier (Selveier)</td>\n",
       "      <td>Enebolig</td>\n",
       "      <td>343.0</td>\n",
       "      <td>1850</td>\n",
       "      <td>realestate</td>\n",
       "      <td>0</td>\n",
       "    </tr>\n",
       "    <tr>\n",
       "      <th>4</th>\n",
       "      <td>LÃ¸landsveien 429, Lindesnes</td>\n",
       "      <td>260891785</td>\n",
       "      <td>https://www.finn.no/realestate/homes/ad.html?f...</td>\n",
       "      <td>1</td>\n",
       "      <td>7</td>\n",
       "      <td>1850</td>\n",
       "      <td>58.20019</td>\n",
       "      <td>None</td>\n",
       "      <td>7.33795</td>\n",
       "      <td>2</td>\n",
       "      <td>Eier (Selveier)</td>\n",
       "      <td>Enebolig</td>\n",
       "      <td>84.0</td>\n",
       "      <td>1850</td>\n",
       "      <td>realestate</td>\n",
       "      <td>0</td>\n",
       "    </tr>\n",
       "  </tbody>\n",
       "</table>\n",
       "</div>"
      ],
      "text/plain": [
       "                        Location      ad_id                                            ad_link  ad_type  energy_label  from_year       lat  \\\n",
       "0    Lundadalsvegen 259, Lundamo  260428160  https://www.finn.no/realestate/homes/ad.html?f...        1             6       1850  63.13540   \n",
       "1          Norumveien 58, SÃ¸rum  259128262  https://www.finn.no/realestate/homes/ad.html?f...        1             6       1850  60.03278   \n",
       "2        Jahrenveien 79, Fetsund  260954618  https://www.finn.no/realestate/homes/ad.html?f...        1             7       1850  59.90740   \n",
       "3  Borreveien 136 og 138, Horten  252179712  https://www.finn.no/realestate/homes/ad.html?f...        1             7       1850  59.38591   \n",
       "4   LÃ¸landsveien 429, Lindesnes  260891785  https://www.finn.no/realestate/homes/ad.html?f...        1             7       1850  58.20019   \n",
       "\n",
       "  local_area_name       lon  number_of_bedrooms owner_type_description property_type_description  size_from  to_year        type  byggear_cat  \n",
       "0         LUNDAMO  10.31820                   3        Eier (Selveier)       GÃ¥rdsbruk/SmÃ¥bruk      128.0     1850  realestate            0  \n",
       "1          SÃ¸rum  11.22700                   3        Eier (Selveier)       GÃ¥rdsbruk/SmÃ¥bruk      189.0     1850  realestate            0  \n",
       "2         Fetsund  11.16590                   1        Eier (Selveier)       GÃ¥rdsbruk/SmÃ¥bruk      125.0     1850  realestate            0  \n",
       "3            None  10.46539                   6        Eier (Selveier)                  Enebolig      343.0     1850  realestate            0  \n",
       "4            None   7.33795                   2        Eier (Selveier)                  Enebolig       84.0     1850  realestate            0  "
      ]
     },
     "execution_count": 21,
     "metadata": {},
     "output_type": "execute_result"
    }
   ],
   "source": [
    "df.head()"
   ]
  },
  {
   "cell_type": "code",
   "execution_count": 71,
   "id": "8c1c7bb7",
   "metadata": {
    "scrolled": true
   },
   "outputs": [],
   "source": [
    "df_pivot =df[['byggear_cat','energy_label']].value_counts().sort_index()"
   ]
  },
  {
   "cell_type": "code",
   "execution_count": 72,
   "id": "d9efeda4",
   "metadata": {},
   "outputs": [
    {
     "data": {
      "text/plain": [
       "byggear_cat  energy_label\n",
       "0            1                  1\n",
       "             2                 15\n",
       "             3                 52\n",
       "             4                 85\n",
       "             5                147\n",
       "             6                555\n",
       "             7               1660\n",
       "1            1                  1\n",
       "             2                  9\n",
       "             3                 12\n",
       "dtype: int64"
      ]
     },
     "execution_count": 72,
     "metadata": {},
     "output_type": "execute_result"
    }
   ],
   "source": [
    "df_pivot.head(10)"
   ]
  },
  {
   "cell_type": "code",
   "execution_count": 73,
   "id": "f663d75d",
   "metadata": {},
   "outputs": [
    {
     "data": {
      "image/png": "[encoded data removed]",
      "text/plain": [
       "<Figure size 1080x432 with 1 Axes>"
      ]
     },
     "metadata": {},
     "output_type": "display_data"
    }
   ],
   "source": [
    "plt.style.use(\"dark_background\")\n",
    "df_pivot.plot.bar(figsize=(15,6))\n",
    "plt.savefig('proportion.pdf')\n",
    "\n",
    "plt.xlabel(' (TEK category, energy label)')\n",
    "plt.ylabel('nr_ads_details.png')\n",
    "plt.savefig('../illustrations/nr_ads_by_TEK_and_labels')"
   ]
  },
  {
   "cell_type": "markdown",
   "id": "e2d9a333",
   "metadata": {},
   "source": [
    "#####  anomalies investigation\n",
    "e.g.\n",
    "- (0,2): no TEK and energy label B: apartment or houses renovert\n",
    "- (6,5): TEK17 and label E: poor isolated building\n",
    "- (6,7): TEk17 and label G: maybe one fully renovert the rest is new buildings "
   ]
  },
  {
   "cell_type": "code",
   "execution_count": 74,
   "id": "bcb25f41",
   "metadata": {},
   "outputs": [],
   "source": [
    "temp_df = df[df['byggear_cat']==6]"
   ]
  },
  {
   "cell_type": "code",
   "execution_count": 75,
   "id": "d68ade68",
   "metadata": {},
   "outputs": [
    {
     "data": {
      "text/plain": [
       "6353    https://www.finn.no/realestate/homes/ad.html?f...\n",
       "6355    https://www.finn.no/realestate/homes/ad.html?f...\n",
       "6356    https://www.finn.no/realestate/homes/ad.html?f...\n",
       "6357    https://www.finn.no/realestate/homes/ad.html?f...\n",
       "6358    https://www.finn.no/realestate/homes/ad.html?f...\n",
       "6577    https://www.finn.no/realestate/homes/ad.html?f...\n",
       "6897    https://www.finn.no/realestate/homes/ad.html?f...\n",
       "6898    https://www.finn.no/realestate/homes/ad.html?f...\n",
       "6899    https://www.finn.no/realestate/homes/ad.html?f...\n",
       "6900    https://www.finn.no/realestate/homes/ad.html?f...\n",
       "6960    https://www.finn.no/realestate/homes/ad.html?f...\n",
       "Name: ad_link, dtype: object"
      ]
     },
     "execution_count": 75,
     "metadata": {},
     "output_type": "execute_result"
    }
   ],
   "source": [
    "temp_df[temp_df['energy_label']==7].ad_link"
   ]
  },
  {
   "cell_type": "code",
   "execution_count": 76,
   "id": "c5961761",
   "metadata": {},
   "outputs": [
    {
     "data": {
      "text/plain": [
       "Location                        0\n",
       "ad_id                           0\n",
       "ad_link                         0\n",
       "ad_type                         0\n",
       "energy_label                    0\n",
       "from_year                       0\n",
       "lat                             0\n",
       "local_area_name              2237\n",
       "lon                             0\n",
       "number_of_bedrooms              0\n",
       "owner_type_description          0\n",
       "property_type_description       0\n",
       "size_from                       1\n",
       "to_year                         0\n",
       "type                            0\n",
       "byggear_cat                     0\n",
       "dtype: int64"
      ]
     },
     "execution_count": 76,
     "metadata": {},
     "output_type": "execute_result"
    }
   ],
   "source": [
    "df.isnull().sum()"
   ]
  },
  {
   "cell_type": "code",
   "execution_count": 77,
   "id": "6f4ed149",
   "metadata": {},
   "outputs": [],
   "source": [
    "df = df.drop(['local_area_name'], axis = 1)"
   ]
  },
  {
   "cell_type": "code",
   "execution_count": 78,
   "id": "f6d22ae9",
   "metadata": {},
   "outputs": [],
   "source": [
    "df = df.dropna(axis=0)"
   ]
  },
  {
   "cell_type": "code",
   "execution_count": 79,
   "id": "f779d65b",
   "metadata": {},
   "outputs": [
    {
     "data": {
      "text/plain": [
       "Location                     0\n",
       "ad_id                        0\n",
       "ad_link                      0\n",
       "ad_type                      0\n",
       "energy_label                 0\n",
       "from_year                    0\n",
       "lat                          0\n",
       "lon                          0\n",
       "number_of_bedrooms           0\n",
       "owner_type_description       0\n",
       "property_type_description    0\n",
       "size_from                    0\n",
       "to_year                      0\n",
       "type                         0\n",
       "byggear_cat                  0\n",
       "dtype: int64"
      ]
     },
     "execution_count": 79,
     "metadata": {},
     "output_type": "execute_result"
    }
   ],
   "source": [
    "df.isnull().sum()"
   ]
  },
  {
   "cell_type": "markdown",
   "id": "0259a48f",
   "metadata": {},
   "source": [
    "## Improve the correlation building's year and energy label"
   ]
  },
  {
   "cell_type": "code",
   "execution_count": 80,
   "id": "511caa8a",
   "metadata": {},
   "outputs": [],
   "source": [
    "corr_global = df.corr()['energy_label']['byggear_cat']\n",
    "#correlation year building vs energy label in function of the type of buildings\n",
    "\n",
    "corr_energy_labels_vs_type_ads=[]\n",
    "for type_ads in df['property_type_description'].unique():\n",
    "    local_corr = df[df['property_type_description'] == type_ads].corr()['energy_label']['byggear_cat']\n",
    "    corr_energy_labels_vs_type_ads.append(abs(local_corr))\n",
    "    \n",
    "labels = df['property_type_description'].unique()"
   ]
  },
  {
   "cell_type": "code",
   "execution_count": 81,
   "id": "4e1f16f7",
   "metadata": {},
   "outputs": [],
   "source": [
    "df_correlation= pd.DataFrame({'Type_Announces':labels,'Correlation':corr_energy_labels_vs_type_ads})"
   ]
  },
  {
   "cell_type": "code",
   "execution_count": 83,
   "id": "d8f4f31f",
   "metadata": {},
   "outputs": [
    {
     "data": {
      "image/png": "[encoded data removed]",
      "text/plain": [
       "<Figure size 576x288 with 1 Axes>"
      ]
     },
     "metadata": {},
     "output_type": "display_data"
    }
   ],
   "source": [
    "plt.style.use(\"dark_background\")\n",
    "df_correlation.plot.barh(x='Type_Announces',y='Correlation',figsize=(8,4),title='Correlation between the category based on TEK and the energy label by type of ads')\n",
    "plt.savefig('../illustrations/correlation_by_type_building.png')"
   ]
  },
  {
   "cell_type": "code",
   "execution_count": 84,
   "id": "d0090d0c",
   "metadata": {},
   "outputs": [
    {
     "data": {
      "text/html": [
       "<div>\n",
       "<style scoped>\n",
       "    .dataframe tbody tr th:only-of-type {\n",
       "        vertical-align: middle;\n",
       "    }\n",
       "\n",
       "    .dataframe tbody tr th {\n",
       "        vertical-align: top;\n",
       "    }\n",
       "\n",
       "    .dataframe thead th {\n",
       "        text-align: right;\n",
       "    }\n",
       "</style>\n",
       "<table border=\"1\" class=\"dataframe\">\n",
       "  <thead>\n",
       "    <tr style=\"text-align: right;\">\n",
       "      <th></th>\n",
       "      <th>ad_id</th>\n",
       "      <th>ad_type</th>\n",
       "      <th>energy_label</th>\n",
       "      <th>from_year</th>\n",
       "      <th>lat</th>\n",
       "      <th>lon</th>\n",
       "      <th>number_of_bedrooms</th>\n",
       "      <th>size_from</th>\n",
       "      <th>to_year</th>\n",
       "      <th>byggear_cat</th>\n",
       "    </tr>\n",
       "  </thead>\n",
       "  <tbody>\n",
       "    <tr>\n",
       "      <th>ad_id</th>\n",
       "      <td>1.000000</td>\n",
       "      <td>NaN</td>\n",
       "      <td>0.033151</td>\n",
       "      <td>-0.025054</td>\n",
       "      <td>-0.127556</td>\n",
       "      <td>-0.048102</td>\n",
       "      <td>-0.057314</td>\n",
       "      <td>-0.052989</td>\n",
       "      <td>-0.025054</td>\n",
       "      <td>-0.049964</td>\n",
       "    </tr>\n",
       "    <tr>\n",
       "      <th>ad_type</th>\n",
       "      <td>NaN</td>\n",
       "      <td>NaN</td>\n",
       "      <td>NaN</td>\n",
       "      <td>NaN</td>\n",
       "      <td>NaN</td>\n",
       "      <td>NaN</td>\n",
       "      <td>NaN</td>\n",
       "      <td>NaN</td>\n",
       "      <td>NaN</td>\n",
       "      <td>NaN</td>\n",
       "    </tr>\n",
       "    <tr>\n",
       "      <th>energy_label</th>\n",
       "      <td>0.033151</td>\n",
       "      <td>NaN</td>\n",
       "      <td>1.000000</td>\n",
       "      <td>-0.737008</td>\n",
       "      <td>0.053521</td>\n",
       "      <td>0.064501</td>\n",
       "      <td>0.078362</td>\n",
       "      <td>0.101279</td>\n",
       "      <td>-0.737008</td>\n",
       "      <td>-0.823377</td>\n",
       "    </tr>\n",
       "    <tr>\n",
       "      <th>from_year</th>\n",
       "      <td>-0.025054</td>\n",
       "      <td>NaN</td>\n",
       "      <td>-0.737008</td>\n",
       "      <td>1.000000</td>\n",
       "      <td>-0.005816</td>\n",
       "      <td>-0.024953</td>\n",
       "      <td>-0.051942</td>\n",
       "      <td>-0.088264</td>\n",
       "      <td>1.000000</td>\n",
       "      <td>0.837475</td>\n",
       "    </tr>\n",
       "    <tr>\n",
       "      <th>lat</th>\n",
       "      <td>-0.127556</td>\n",
       "      <td>NaN</td>\n",
       "      <td>0.053521</td>\n",
       "      <td>-0.005816</td>\n",
       "      <td>1.000000</td>\n",
       "      <td>0.704447</td>\n",
       "      <td>0.057061</td>\n",
       "      <td>0.004965</td>\n",
       "      <td>-0.005816</td>\n",
       "      <td>-0.051568</td>\n",
       "    </tr>\n",
       "    <tr>\n",
       "      <th>lon</th>\n",
       "      <td>-0.048102</td>\n",
       "      <td>NaN</td>\n",
       "      <td>0.064501</td>\n",
       "      <td>-0.024953</td>\n",
       "      <td>0.704447</td>\n",
       "      <td>1.000000</td>\n",
       "      <td>0.004700</td>\n",
       "      <td>-0.011311</td>\n",
       "      <td>-0.024953</td>\n",
       "      <td>-0.055228</td>\n",
       "    </tr>\n",
       "    <tr>\n",
       "      <th>number_of_bedrooms</th>\n",
       "      <td>-0.057314</td>\n",
       "      <td>NaN</td>\n",
       "      <td>0.078362</td>\n",
       "      <td>-0.051942</td>\n",
       "      <td>0.057061</td>\n",
       "      <td>0.004700</td>\n",
       "      <td>1.000000</td>\n",
       "      <td>0.744723</td>\n",
       "      <td>-0.051942</td>\n",
       "      <td>-0.095981</td>\n",
       "    </tr>\n",
       "    <tr>\n",
       "      <th>size_from</th>\n",
       "      <td>-0.052989</td>\n",
       "      <td>NaN</td>\n",
       "      <td>0.101279</td>\n",
       "      <td>-0.088264</td>\n",
       "      <td>0.004965</td>\n",
       "      <td>-0.011311</td>\n",
       "      <td>0.744723</td>\n",
       "      <td>1.000000</td>\n",
       "      <td>-0.088264</td>\n",
       "      <td>-0.155048</td>\n",
       "    </tr>\n",
       "    <tr>\n",
       "      <th>to_year</th>\n",
       "      <td>-0.025054</td>\n",
       "      <td>NaN</td>\n",
       "      <td>-0.737008</td>\n",
       "      <td>1.000000</td>\n",
       "      <td>-0.005816</td>\n",
       "      <td>-0.024953</td>\n",
       "      <td>-0.051942</td>\n",
       "      <td>-0.088264</td>\n",
       "      <td>1.000000</td>\n",
       "      <td>0.837475</td>\n",
       "    </tr>\n",
       "    <tr>\n",
       "      <th>byggear_cat</th>\n",
       "      <td>-0.049964</td>\n",
       "      <td>NaN</td>\n",
       "      <td>-0.823377</td>\n",
       "      <td>0.837475</td>\n",
       "      <td>-0.051568</td>\n",
       "      <td>-0.055228</td>\n",
       "      <td>-0.095981</td>\n",
       "      <td>-0.155048</td>\n",
       "      <td>0.837475</td>\n",
       "      <td>1.000000</td>\n",
       "    </tr>\n",
       "  </tbody>\n",
       "</table>\n",
       "</div>"
      ],
      "text/plain": [
       "                       ad_id  ad_type  energy_label  from_year       lat       lon  number_of_bedrooms  size_from   to_year  byggear_cat\n",
       "ad_id               1.000000      NaN      0.033151  -0.025054 -0.127556 -0.048102           -0.057314  -0.052989 -0.025054    -0.049964\n",
       "ad_type                  NaN      NaN           NaN        NaN       NaN       NaN                 NaN        NaN       NaN          NaN\n",
       "energy_label        0.033151      NaN      1.000000  -0.737008  0.053521  0.064501            0.078362   0.101279 -0.737008    -0.823377\n",
       "from_year          -0.025054      NaN     -0.737008   1.000000 -0.005816 -0.024953           -0.051942  -0.088264  1.000000     0.837475\n",
       "lat                -0.127556      NaN      0.053521  -0.005816  1.000000  0.704447            0.057061   0.004965 -0.005816    -0.051568\n",
       "lon                -0.048102      NaN      0.064501  -0.024953  0.704447  1.000000            0.004700  -0.011311 -0.024953    -0.055228\n",
       "number_of_bedrooms -0.057314      NaN      0.078362  -0.051942  0.057061  0.004700            1.000000   0.744723 -0.051942    -0.095981\n",
       "size_from          -0.052989      NaN      0.101279  -0.088264  0.004965 -0.011311            0.744723   1.000000 -0.088264    -0.155048\n",
       "to_year            -0.025054      NaN     -0.737008   1.000000 -0.005816 -0.024953           -0.051942  -0.088264  1.000000     0.837475\n",
       "byggear_cat        -0.049964      NaN     -0.823377   0.837475 -0.051568 -0.055228           -0.095981  -0.155048  0.837475     1.000000"
      ]
     },
     "execution_count": 84,
     "metadata": {},
     "output_type": "execute_result"
    }
   ],
   "source": [
    "df.corr()"
   ]
  },
  {
   "cell_type": "markdown",
   "id": "8cc7705b",
   "metadata": {},
   "source": [
    "### Categorise of the ownership type"
   ]
  },
  {
   "cell_type": "code",
   "execution_count": 85,
   "id": "0a6adc66",
   "metadata": {},
   "outputs": [],
   "source": [
    "dict_ownership = {'Eier (Selveier)':1,'Andel':2,'Aksje':3,'Obligasjon':4}"
   ]
  },
  {
   "cell_type": "code",
   "execution_count": 86,
   "id": "24f9d9df",
   "metadata": {},
   "outputs": [],
   "source": [
    "df['ownership_cat'] = df['owner_type_description'].map(dict_ownership)"
   ]
  },
  {
   "cell_type": "markdown",
   "id": "b1634bdf",
   "metadata": {},
   "source": [
    "### categorise the property type"
   ]
  },
  {
   "cell_type": "code",
   "execution_count": 87,
   "id": "fc48c92e",
   "metadata": {},
   "outputs": [],
   "source": [
    "dict_property_type_cat = {'Leilighet':1,'Enebolig':2,'Rekkehus':3,'Tomannsbolig':4}\n",
    "df['property_type_cat']= df['property_type_description'].map(dict_property_type_cat)"
   ]
  },
  {
   "cell_type": "markdown",
   "id": "e37cf7dd",
   "metadata": {},
   "source": [
    "## Get Elevation"
   ]
  },
  {
   "cell_type": "code",
   "execution_count": 88,
   "id": "ef2daf6d",
   "metadata": {},
   "outputs": [],
   "source": [
    "def GetElevation(coordinates):\n",
    "    lat, lon = coordinates.split(',')\n",
    "    url = f\"https://maps.googleapis.com/maps/api/elevation/json?locations={lat},{lon}&key={GOOGLE_API}\"\n",
    "\n",
    "    payload={}\n",
    "    headers = {}\n",
    "\n",
    "    response = requests.request(\"GET\", url, headers=headers, data=payload)\n",
    "    #print(response.text)\n",
    "    response=response.json()\n",
    "    return response['results'][0]['elevation']\n",
    "\n",
    "df['lat,lon'] = df['lat'].astype(str)+','+ df['lon'].astype(str)\n",
    "\n",
    "#RUN ONLY if needed, takes 20min ( 8 ads per seconds)\n",
    "#df['elevation'] = df['lat,lon'].apply(lambda x: GetElevation(x))\n",
    "\n"
   ]
  },
  {
   "cell_type": "markdown",
   "id": "9d34edc4",
   "metadata": {},
   "source": [
    "## Selecting features\n",
    "\n"
   ]
  },
  {
   "cell_type": "code",
   "execution_count": 89,
   "id": "d448f687",
   "metadata": {},
   "outputs": [
    {
     "data": {
      "text/plain": [
       "Index(['Location', 'ad_id', 'ad_link', 'ad_type', 'energy_label', 'from_year', 'lat', 'lon', 'number_of_bedrooms', 'owner_type_description',\n",
       "       'property_type_description', 'size_from', 'to_year', 'type', 'byggear_cat', 'ownership_cat', 'property_type_cat', 'lat,lon'],\n",
       "      dtype='object')"
      ]
     },
     "execution_count": 89,
     "metadata": {},
     "output_type": "execute_result"
    }
   ],
   "source": [
    "df.columns"
   ]
  },
  {
   "cell_type": "code",
   "execution_count": 90,
   "id": "9e67222b",
   "metadata": {},
   "outputs": [
    {
     "data": {
      "text/html": [
       "<div>\n",
       "<style scoped>\n",
       "    .dataframe tbody tr th:only-of-type {\n",
       "        vertical-align: middle;\n",
       "    }\n",
       "\n",
       "    .dataframe tbody tr th {\n",
       "        vertical-align: top;\n",
       "    }\n",
       "\n",
       "    .dataframe thead th {\n",
       "        text-align: right;\n",
       "    }\n",
       "</style>\n",
       "<table border=\"1\" class=\"dataframe\">\n",
       "  <thead>\n",
       "    <tr style=\"text-align: right;\">\n",
       "      <th></th>\n",
       "      <th>Location</th>\n",
       "      <th>ad_id</th>\n",
       "      <th>ad_link</th>\n",
       "      <th>ad_type</th>\n",
       "      <th>energy_label</th>\n",
       "      <th>from_year</th>\n",
       "      <th>lat</th>\n",
       "      <th>lon</th>\n",
       "      <th>number_of_bedrooms</th>\n",
       "      <th>owner_type_description</th>\n",
       "      <th>property_type_description</th>\n",
       "      <th>size_from</th>\n",
       "      <th>to_year</th>\n",
       "      <th>type</th>\n",
       "      <th>byggear_cat</th>\n",
       "      <th>ownership_cat</th>\n",
       "      <th>property_type_cat</th>\n",
       "      <th>lat,lon</th>\n",
       "    </tr>\n",
       "  </thead>\n",
       "  <tbody>\n",
       "    <tr>\n",
       "      <th>0</th>\n",
       "      <td>Lundadalsvegen 259, Lundamo</td>\n",
       "      <td>260428160</td>\n",
       "      <td>https://www.finn.no/realestate/homes/ad.html?f...</td>\n",
       "      <td>1</td>\n",
       "      <td>6</td>\n",
       "      <td>1850</td>\n",
       "      <td>63.13540</td>\n",
       "      <td>10.31820</td>\n",
       "      <td>3</td>\n",
       "      <td>Eier (Selveier)</td>\n",
       "      <td>GÃ¥rdsbruk/SmÃ¥bruk</td>\n",
       "      <td>128.0</td>\n",
       "      <td>1850</td>\n",
       "      <td>realestate</td>\n",
       "      <td>0</td>\n",
       "      <td>1</td>\n",
       "      <td>NaN</td>\n",
       "      <td>63.1354,10.3182</td>\n",
       "    </tr>\n",
       "    <tr>\n",
       "      <th>1</th>\n",
       "      <td>Norumveien 58, SÃ¸rum</td>\n",
       "      <td>259128262</td>\n",
       "      <td>https://www.finn.no/realestate/homes/ad.html?f...</td>\n",
       "      <td>1</td>\n",
       "      <td>6</td>\n",
       "      <td>1850</td>\n",
       "      <td>60.03278</td>\n",
       "      <td>11.22700</td>\n",
       "      <td>3</td>\n",
       "      <td>Eier (Selveier)</td>\n",
       "      <td>GÃ¥rdsbruk/SmÃ¥bruk</td>\n",
       "      <td>189.0</td>\n",
       "      <td>1850</td>\n",
       "      <td>realestate</td>\n",
       "      <td>0</td>\n",
       "      <td>1</td>\n",
       "      <td>NaN</td>\n",
       "      <td>60.03278,11.227</td>\n",
       "    </tr>\n",
       "    <tr>\n",
       "      <th>2</th>\n",
       "      <td>Jahrenveien 79, Fetsund</td>\n",
       "      <td>260954618</td>\n",
       "      <td>https://www.finn.no/realestate/homes/ad.html?f...</td>\n",
       "      <td>1</td>\n",
       "      <td>7</td>\n",
       "      <td>1850</td>\n",
       "      <td>59.90740</td>\n",
       "      <td>11.16590</td>\n",
       "      <td>1</td>\n",
       "      <td>Eier (Selveier)</td>\n",
       "      <td>GÃ¥rdsbruk/SmÃ¥bruk</td>\n",
       "      <td>125.0</td>\n",
       "      <td>1850</td>\n",
       "      <td>realestate</td>\n",
       "      <td>0</td>\n",
       "      <td>1</td>\n",
       "      <td>NaN</td>\n",
       "      <td>59.9074,11.1659</td>\n",
       "    </tr>\n",
       "    <tr>\n",
       "      <th>3</th>\n",
       "      <td>Borreveien 136 og 138, Horten</td>\n",
       "      <td>252179712</td>\n",
       "      <td>https://www.finn.no/realestate/homes/ad.html?f...</td>\n",
       "      <td>1</td>\n",
       "      <td>7</td>\n",
       "      <td>1850</td>\n",
       "      <td>59.38591</td>\n",
       "      <td>10.46539</td>\n",
       "      <td>6</td>\n",
       "      <td>Eier (Selveier)</td>\n",
       "      <td>Enebolig</td>\n",
       "      <td>343.0</td>\n",
       "      <td>1850</td>\n",
       "      <td>realestate</td>\n",
       "      <td>0</td>\n",
       "      <td>1</td>\n",
       "      <td>2.0</td>\n",
       "      <td>59.38591,10.46539</td>\n",
       "    </tr>\n",
       "    <tr>\n",
       "      <th>4</th>\n",
       "      <td>LÃ¸landsveien 429, Lindesnes</td>\n",
       "      <td>260891785</td>\n",
       "      <td>https://www.finn.no/realestate/homes/ad.html?f...</td>\n",
       "      <td>1</td>\n",
       "      <td>7</td>\n",
       "      <td>1850</td>\n",
       "      <td>58.20019</td>\n",
       "      <td>7.33795</td>\n",
       "      <td>2</td>\n",
       "      <td>Eier (Selveier)</td>\n",
       "      <td>Enebolig</td>\n",
       "      <td>84.0</td>\n",
       "      <td>1850</td>\n",
       "      <td>realestate</td>\n",
       "      <td>0</td>\n",
       "      <td>1</td>\n",
       "      <td>2.0</td>\n",
       "      <td>58.20019,7.33795</td>\n",
       "    </tr>\n",
       "  </tbody>\n",
       "</table>\n",
       "</div>"
      ],
      "text/plain": [
       "                        Location      ad_id                                            ad_link  ad_type  energy_label  from_year       lat  \\\n",
       "0    Lundadalsvegen 259, Lundamo  260428160  https://www.finn.no/realestate/homes/ad.html?f...        1             6       1850  63.13540   \n",
       "1          Norumveien 58, SÃ¸rum  259128262  https://www.finn.no/realestate/homes/ad.html?f...        1             6       1850  60.03278   \n",
       "2        Jahrenveien 79, Fetsund  260954618  https://www.finn.no/realestate/homes/ad.html?f...        1             7       1850  59.90740   \n",
       "3  Borreveien 136 og 138, Horten  252179712  https://www.finn.no/realestate/homes/ad.html?f...        1             7       1850  59.38591   \n",
       "4   LÃ¸landsveien 429, Lindesnes  260891785  https://www.finn.no/realestate/homes/ad.html?f...        1             7       1850  58.20019   \n",
       "\n",
       "        lon  number_of_bedrooms owner_type_description property_type_description  size_from  to_year        type  byggear_cat  ownership_cat  \\\n",
       "0  10.31820                   3        Eier (Selveier)       GÃ¥rdsbruk/SmÃ¥bruk      128.0     1850  realestate            0              1   \n",
       "1  11.22700                   3        Eier (Selveier)       GÃ¥rdsbruk/SmÃ¥bruk      189.0     1850  realestate            0              1   \n",
       "2  11.16590                   1        Eier (Selveier)       GÃ¥rdsbruk/SmÃ¥bruk      125.0     1850  realestate            0              1   \n",
       "3  10.46539                   6        Eier (Selveier)                  Enebolig      343.0     1850  realestate            0              1   \n",
       "4   7.33795                   2        Eier (Selveier)                  Enebolig       84.0     1850  realestate            0              1   \n",
       "\n",
       "   property_type_cat            lat,lon  \n",
       "0                NaN    63.1354,10.3182  \n",
       "1                NaN    60.03278,11.227  \n",
       "2                NaN    59.9074,11.1659  \n",
       "3                2.0  59.38591,10.46539  \n",
       "4                2.0   58.20019,7.33795  "
      ]
     },
     "execution_count": 90,
     "metadata": {},
     "output_type": "execute_result"
    }
   ],
   "source": [
    "df.head()"
   ]
  },
  {
   "cell_type": "code",
   "execution_count": 91,
   "id": "b4d2cdf2",
   "metadata": {},
   "outputs": [],
   "source": [
    "output_df=df[['ad_id','lat', 'lon', 'byggear_cat', 'ownership_cat', 'property_type_cat','energy_label']]\n",
    "\n"
   ]
  },
  {
   "cell_type": "markdown",
   "id": "07f970f4",
   "metadata": {},
   "source": [
    "## output\n",
    "\n"
   ]
  },
  {
   "cell_type": "code",
   "execution_count": null,
   "id": "8c020412",
   "metadata": {},
   "outputs": [],
   "source": [
    "#output_df.to_csv('output_cleaning_step.csv')"
   ]
  },
  {
   "cell_type": "code",
   "execution_count": 92,
   "id": "5e62b19b",
   "metadata": {},
   "outputs": [
    {
     "data": {
      "text/plain": [
       "ad_id                 0.033151\n",
       "ad_type                    NaN\n",
       "energy_label          1.000000\n",
       "from_year            -0.737008\n",
       "lat                   0.053521\n",
       "lon                   0.064501\n",
       "number_of_bedrooms    0.078362\n",
       "size_from             0.101279\n",
       "to_year              -0.737008\n",
       "byggear_cat          -0.823377\n",
       "ownership_cat         0.063236\n",
       "property_type_cat     0.105853\n",
       "Name: energy_label, dtype: float64"
      ]
     },
     "execution_count": 92,
     "metadata": {},
     "output_type": "execute_result"
    }
   ],
   "source": [
    "df.corr()['energy_label']"
   ]
  },
  {
   "cell_type": "code",
   "execution_count": 93,
   "id": "9d8fef30",
   "metadata": {},
   "outputs": [
    {
     "data": {
      "text/plain": [
       "Index(['ad_id', 'lat', 'lon', 'byggear_cat', 'ownership_cat', 'property_type_cat', 'energy_label'], dtype='object')"
      ]
     },
     "execution_count": 93,
     "metadata": {},
     "output_type": "execute_result"
    }
   ],
   "source": [
    "output_df.columns"
   ]
  },
  {
   "cell_type": "code",
   "execution_count": 95,
   "id": "919949b5",
   "metadata": {},
   "outputs": [
    {
     "data": {
      "text/html": [
       "<div>\n",
       "<style scoped>\n",
       "    .dataframe tbody tr th:only-of-type {\n",
       "        vertical-align: middle;\n",
       "    }\n",
       "\n",
       "    .dataframe tbody tr th {\n",
       "        vertical-align: top;\n",
       "    }\n",
       "\n",
       "    .dataframe thead th {\n",
       "        text-align: right;\n",
       "    }\n",
       "</style>\n",
       "<table border=\"1\" class=\"dataframe\">\n",
       "  <thead>\n",
       "    <tr style=\"text-align: right;\">\n",
       "      <th></th>\n",
       "      <th>ad_id</th>\n",
       "      <th>lat</th>\n",
       "      <th>lon</th>\n",
       "      <th>byggear_cat</th>\n",
       "      <th>ownership_cat</th>\n",
       "      <th>property_type_cat</th>\n",
       "      <th>energy_label</th>\n",
       "    </tr>\n",
       "  </thead>\n",
       "  <tbody>\n",
       "  </tbody>\n",
       "</table>\n",
       "</div>"
      ],
      "text/plain": [
       "Empty DataFrame\n",
       "Columns: [ad_id, lat, lon, byggear_cat, ownership_cat, property_type_cat, energy_label]\n",
       "Index: []"
      ]
     },
     "execution_count": 95,
     "metadata": {},
     "output_type": "execute_result"
    }
   ],
   "source": [
    "output_df[df['size_from'].isnull()]"
   ]
  },
  {
   "cell_type": "code",
   "execution_count": 96,
   "id": "d0764032",
   "metadata": {},
   "outputs": [
    {
     "data": {
      "text/plain": [
       "ad_id                0.033151\n",
       "lat                  0.053521\n",
       "lon                  0.064501\n",
       "byggear_cat         -0.823377\n",
       "ownership_cat        0.063236\n",
       "property_type_cat    0.105853\n",
       "energy_label         1.000000\n",
       "Name: energy_label, dtype: float64"
      ]
     },
     "execution_count": 96,
     "metadata": {},
     "output_type": "execute_result"
    }
   ],
   "source": [
    "output_df.corr()['energy_label']"
   ]
  }
 ],
 "metadata": {
  "kernelspec": {
   "display_name": "Python 3.9.7 ('base')",
   "language": "python",
   "name": "python3"
  },
  "language_info": {
   "codemirror_mode": {
    "name": "ipython",
    "version": 3
   },
   "file_extension": ".py",
   "mimetype": "text/x-python",
   "name": "python",
   "nbconvert_exporter": "python",
   "pygments_lexer": "ipython3",
   "version": "3.9.7"
  },
  "vscode": {
   "interpreter": {
    "hash": "934da0d35cbf0bb16d74b991bef1ef709e1f5d35bbb7385c6a7d6c715fe29c9c"
   }
  }
 },
 "nbformat": 4,
 "nbformat_minor": 5
}
