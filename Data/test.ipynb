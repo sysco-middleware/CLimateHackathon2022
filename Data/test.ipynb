{
 "cells": [
  {
   "cell_type": "code",
   "execution_count": 44,
   "metadata": {},
   "outputs": [],
   "source": [
    "import json"
   ]
  },
  {
   "cell_type": "code",
   "execution_count": 45,
   "metadata": {},
   "outputs": [],
   "source": [
    "f = open('/Users/thibaud/Documents/GitHub/CLimateHackathon2022/Data/DNB/JSON/Untreated/f99afd09-0464-44d0-abd5-08da5297411b.json')"
   ]
  },
  {
   "cell_type": "code",
   "execution_count": 46,
   "metadata": {},
   "outputs": [],
   "source": [
    "class Bolig:\n",
    "        prisantydning = []\n",
    "        byggeaar = []\n",
    "        bruksareal = []\n",
    "        number_of_rooms = []\n",
    "        heating = []\n",
    "        energy_label = []\n",
    "        energy_color=[]\n",
    "        property_type_description = []"
   ]
  },
  {
   "cell_type": "code",
   "execution_count": 47,
   "metadata": {},
   "outputs": [],
   "source": [
    "def Mapper(fileJson):\n",
    "    bolig = Bolig()\n",
    "    bolig.prisantydning = fileJson[\"prisantydning\"]\n",
    "    bolig.byggeaar = fileJson[\"byggeaar\"]\n",
    "    bolig.bruksareal = fileJson[\"bruksareal\"]\n",
    "    bolig.number_of_rooms = fileJson[\"number_of_rooms\"]\n",
    "    bolig.heating = fileJson[\"heating\"]\n",
    "    #bolig.location = fileJson[\"location\"]\n",
    "    bolig.energy_label = fileJson[\"energy_label\"]\n",
    "    bolig.energy_color = fileJson[\"energy_color\"]\n",
    "\n",
    "    bolig.property_type_description = fileJson[\"property_type_description\"]\n",
    "    return bolig"
   ]
  },
  {
   "cell_type": "code",
   "execution_count": 48,
   "metadata": {},
   "outputs": [],
   "source": [
    "Jsonfile = json.load(f)"
   ]
  },
  {
   "cell_type": "code",
   "execution_count": 49,
   "metadata": {},
   "outputs": [
    {
     "data": {
      "text/plain": [
       "{'bruksareal': [['bruksareal', '75 m²', ''],\n",
       "  ['arealbeskrivelse', 'garasje', 'bruksareal', '1. etasje: 17 kvm ', ''],\n",
       "  ['leilighet ',\n",
       "   'bruksareal',\n",
       "   '2. etasje: 58 kvm gang, kjøkken, stue, soverom, bad',\n",
       "   'primærrom',\n",
       "   '2. etasje: 58 kvm gang, kjøkken, stue, 2 soverom, bad',\n",
       "   ''],\n",
       "  ['oversikt over totalt bruksareal (bra).', ''],\n",
       "  ['hva er bruksareal?',\n",
       "   'bra (bruksareal)   =   p-rom (primærrom)   +   s-rom (sekundærrom)',\n",
       "   'bra er måleverdig areal innenfor yttervegger. p-rom er rom som benyttes til kort eller langt opphold. ',\n",
       "   's-rom er rom som benyttes til lagring, samt tekniske rom.',\n",
       "   ''],\n",
       "  ['bruksareal bra m²', ''],\n",
       "  ['bruksareal bra m²', ''],\n",
       "  ['• bruksareal (bra) er det måleverdige arealet som er innenfor',\n",
       "   'omsluttede vegger målt i gulvhøyde (bruttoareal minus arealet',\n",
       "   'som opptas av yttervegger). i tillegg til gulvhøyde gjelder regler',\n",
       "   'om fri bredde for at arealet skal være målbart, med betydning for',\n",
       "   'bra av for eksempel loft med skråtak. samlet bra for et plan',\n",
       "   'eller en bruksenhet er p-rom og s-rom til sammen. p-rom er',\n",
       "   'måleverdige rom som benyttes til kort eller langt opphold. p-rom',\n",
       "   'er bruksareal av primærdelen. vegger mellom p-rom måles som',\n",
       "   'p-rom. s-rom er måleverdige rom som benyttes til lagring, og',\n",
       "   'tekniske rom. rom skal ha atkomst og gangbart gulv for å kunne',\n",
       "   'regnes som s-rom/målbart areal.',\n",
       "   '']],\n",
       " 'byggeaar': [['byggeår', '1951', ''],\n",
       "  ['byggeår', '1951', ''],\n",
       "  ['vurdering mot byggeår',\n",
       "   'den bygningssakkyndige vil vurdere boligen mot hvordan det var vanlig å ',\n",
       "   'bygge og regler som gjaldt da bygningen ble oppført ',\n",
       "   '(søknadstidspunktet). den bygningssakkyndige ser etter avvik som har ',\n",
       "   'betydning for og som reduserer boligens funksjon og verdi, og som ',\n",
       "   'kommer frem av forskrift til avhendingslova.',\n",
       "   'noen rom og bygningsdeler slik som bad og vaskerom, og forhold som ',\n",
       "   'gjelder sikkerhet mot brann, rekkverk og trapper osv., vil den ',\n",
       "   'bygningssakkyndige vurdere mot dagens regelverk. etter dagens ',\n",
       "   'regelverk vil disse kunne få en tilstandsgrad 2 eller 3 uten at det ',\n",
       "   'nødvendigvis er krav om at avviket må utbedres. ',\n",
       "   ''],\n",
       "  ['byggeår', '1951', ''],\n",
       "  ['veggene har bindingsverkskonstruksjon fra byggeår og liggende ',\n",
       "   'bordkledning.',\n",
       "   ''],\n",
       "  ['konstruksjoner har alder fra byggeår og har noe heng i takstoler, på ',\n",
       "   'indre loft er fuktskjolder i konstruksjoner og noe svertesopp ',\n",
       "   ''],\n",
       "  ['etasjeskille har alder fra byggeår og er stabilt og er med minimale ',\n",
       "   'nivåforskjelller i rommene kun målt 15mm igjennom hele leilighetens ',\n",
       "   'lengde fra kjøkken til stuedel.',\n",
       "   ''],\n",
       "  ['pipe har alder fra byggeår', ''],\n",
       "  ['trapp har alder fra byggeåret, rekkerverk og håndløper oppfyller ikke ',\n",
       "   'dagens krav for trapper',\n",
       "   ''],\n",
       "  ['grunnmur har alder fra byggeår og har enkelte sprekker og riss, ',\n",
       "   'overflater utvendig har noe avflassing av puss',\n",
       "   ''],\n",
       "  ['byggeår', '2015', ''],\n",
       "  ['bygningskategori:',\n",
       "   'bygningstype:',\n",
       "   'byggeår:',\n",
       "   'bygningsmateriale:',\n",
       "   'bra:',\n",
       "   'ant. etg. med oppv. bra:',\n",
       "   'detaljert vegger:',\n",
       "   'detaljert vindu: ',\n",
       "   '']],\n",
       " 'energy_color': [['energifarge', 'rød', '']],\n",
       " 'energy_label': [['energikarakter', 'g', ''],\n",
       "  ['energimerket angir boligens energistandard.',\n",
       "   'energimerket består av en energikarakter og en opp-',\n",
       "   'varmingskarakter, se figuren. energimerket',\n",
       "   'symboliseres med et hus, hvor fargen viser oppvarmings-',\n",
       "   'karakter, og bokstaven viser energikarakter.',\n",
       "   ''],\n",
       "  ['energikarakteren angir hvor energieffektiv boligen er,',\n",
       "   'inkludert oppvarmingsanlegget. energikarakteren er',\n",
       "   'beregnet ut fra den typiske energibruken for boligtypen.',\n",
       "   'beregningene er gjort ut fra normal bruk ved et gjennom-',\n",
       "   'snittlig klima. det er boligens energimessige standard og',\n",
       "   'ikke bruken som bestemmer energikarakteren.',\n",
       "   'a betyr at boligen er energieffektiv, mens g betyr at',\n",
       "   ''],\n",
       "  ['enova er ansvarlig for energimerkeordingen. energimerket',\n",
       "   'beregnes på grunnlag av oppgitte opplysninger om',\n",
       "   'boligen. for informasjon som ikke er oppgitt, brukes ',\n",
       "   'typiske standardverdier for den aktuelle bygningstypen',\n",
       "   'fra tidsperioden den ble bygd i. beregningsmetodene',\n",
       "   'for energikarakteren baserer seg på ns 3031',\n",
       "   '(www.energimerking.no/ns3031)',\n",
       "   '']],\n",
       " 'heating': [['tekniske installasjoner i boligen:',\n",
       "   'sikringsskap er med nyere automatsikringer og strømmåler ble montert i 2018.',\n",
       "   'til oppvarming er det elektrisk varmepumpe, panelovner, vedovn, varmtvannstank til oppvarming  ',\n",
       "   'av vann er tilkoblet i kjeller.',\n",
       "   'boligen har brannvarsler, brannteppe, brannslange og det er ett brannslokningsapparat i boligen.',\n",
       "   ''],\n",
       "  ['oppvarming',\n",
       "   'til oppvarming er det elektrisk varmepumpe, panelovner, vedovn.',\n",
       "   ''],\n",
       "  ['tekniske installasjoner i boligen. ',\n",
       "   'sikringsskap er med nyere og eldre automatsikringer og ',\n",
       "   'strømmåler ble montert i 2018. ',\n",
       "   'til oppvarming er det elektriske panelovner og varmekabler ',\n",
       "   'på bad, varmtvannstank til oppvarming av vann er tilkoblet i ',\n",
       "   'kjeller.',\n",
       "   'boligen har en røykvarsler og brannslange i ',\n",
       "   'kjøkkeninnredning ',\n",
       "   ''],\n",
       "  ['energimerket angir boligens energistandard.',\n",
       "   'energimerket består av en energikarakter og en opp-',\n",
       "   'varmingskarakter, se figuren. energimerket',\n",
       "   'symboliseres med et hus, hvor fargen viser oppvarmings-',\n",
       "   'karakter, og bokstaven viser energikarakter.',\n",
       "   ''],\n",
       "  ['energikarakteren angir hvor energieffektiv boligen er,',\n",
       "   'inkludert oppvarmingsanlegget. energikarakteren er',\n",
       "   'beregnet ut fra den typiske energibruken for boligtypen.',\n",
       "   'beregningene er gjort ut fra normal bruk ved et gjennom-',\n",
       "   'snittlig klima. det er boligens energimessige standard og',\n",
       "   'ikke bruken som bestemmer energikarakteren.',\n",
       "   'a betyr at boligen er energieffektiv, mens g betyr at',\n",
       "   ''],\n",
       "  ['oppvarmingskarakteren forteller hvor stor andel av',\n",
       "   'oppvarmingsbehovet (romoppvarming og varmtvann)',\n",
       "   'som dekkes av elektrisitet, olje eller gass.',\n",
       "   'grønn farge betyr lav andel el, olje og gass, ',\n",
       "   'mens rød farge betyr høy andel el, olje og gass.',\n",
       "   'oppvarmingskarakteren skal stimulere til økt bruk',\n",
       "   'av varmepumper, solenergi, biobrensel og fjernvarme.',\n",
       "   ''],\n",
       "  ['teknisk installasjon', 'oppvarming:', '']],\n",
       " 'number_of_rooms': [['antall rom', '2', '']],\n",
       " 'prisantydning': [['prisantydning', ''],\n",
       "  ['prisantydning', 'kr 1 450 000', ''],\n",
       "  ['forutsetninger: regnestykket forutsetter at det kun tinglyses en låneobligasjon og at eiendommen selges til prisantydning',\n",
       "   'hvis salg til prisantydning',\n",
       "   'det er den faktiske bruken av rommet på markedsføringstidspunktet som er avgjørende. bruken av rommet kan være i strid med byggteknisk',\n",
       "   'forskrift og /     eller mangle godkjennelse i kommunen for den aktuelle bruken.',\n",
       "   ''],\n",
       "  ['prisantydning', 'kr 1 450 000', '']],\n",
       " 'property_type_description': [['boligtype', ''],\n",
       "  ['boligtype', 'leilighet', ''],\n",
       "  ['boligtype', 'leilighet', ''],\n",
       "  ['energikarakteren angir hvor energieffektiv boligen er,',\n",
       "   'inkludert oppvarmingsanlegget. energikarakteren er',\n",
       "   'beregnet ut fra den typiske energibruken for boligtypen.',\n",
       "   'beregningene er gjort ut fra normal bruk ved et gjennom-',\n",
       "   'snittlig klima. det er boligens energimessige standard og',\n",
       "   'ikke bruken som bestemmer energikarakteren.',\n",
       "   'a betyr at boligen er energieffektiv, mens g betyr at',\n",
       "   '']]}"
      ]
     },
     "execution_count": 49,
     "metadata": {},
     "output_type": "execute_result"
    }
   ],
   "source": [
    "Jsonfile"
   ]
  },
  {
   "cell_type": "code",
   "execution_count": 50,
   "metadata": {},
   "outputs": [],
   "source": [
    "bolig = Mapper(Jsonfile)"
   ]
  },
  {
   "cell_type": "code",
   "execution_count": 51,
   "metadata": {},
   "outputs": [
    {
     "data": {
      "text/plain": [
       "<__main__.Bolig at 0x105fa0970>"
      ]
     },
     "execution_count": 51,
     "metadata": {},
     "output_type": "execute_result"
    }
   ],
   "source": [
    "bolig"
   ]
  },
  {
   "cell_type": "code",
   "execution_count": 56,
   "metadata": {},
   "outputs": [
    {
     "data": {
      "text/plain": [
       "'rød'"
      ]
     },
     "execution_count": 56,
     "metadata": {},
     "output_type": "execute_result"
    }
   ],
   "source": [
    "bolig.energy_color[0][1]"
   ]
  },
  {
   "cell_type": "code",
   "execution_count": 57,
   "metadata": {},
   "outputs": [
    {
     "data": {
      "text/plain": [
       "'g'"
      ]
     },
     "execution_count": 57,
     "metadata": {},
     "output_type": "execute_result"
    }
   ],
   "source": [
    "bolig.energy_label[0][1]"
   ]
  },
  {
   "cell_type": "code",
   "execution_count": null,
   "metadata": {},
   "outputs": [],
   "source": []
  },
  {
   "cell_type": "code",
   "execution_count": null,
   "metadata": {},
   "outputs": [],
   "source": []
  },
  {
   "cell_type": "code",
   "execution_count": null,
   "metadata": {},
   "outputs": [],
   "source": []
  }
 ],
 "metadata": {
  "kernelspec": {
   "display_name": "Python 3.8.9 64-bit",
   "language": "python",
   "name": "python3"
  },
  "language_info": {
   "codemirror_mode": {
    "name": "ipython",
    "version": 3
   },
   "file_extension": ".py",
   "mimetype": "text/x-python",
   "name": "python",
   "nbconvert_exporter": "python",
   "pygments_lexer": "ipython3",
   "version": "3.8.9"
  },
  "orig_nbformat": 4,
  "vscode": {
   "interpreter": {
    "hash": "31f2aee4e71d21fbe5cf8b01ff0e069b9275f58929596ceb00d14d90e3e16cd6"
   }
  }
 },
 "nbformat": 4,
 "nbformat_minor": 2
}
