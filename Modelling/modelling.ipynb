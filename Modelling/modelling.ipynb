{
 "cells": [
  {
   "cell_type": "code",
   "execution_count": 1,
   "metadata": {},
   "outputs": [],
   "source": [
    "import pandas as pd\n",
    "import sklearn as sk \n",
    "from sklearn import datasets\n",
    "from sklearn.metrics import confusion_matrix\n",
    "from sklearn.model_selection import train_test_split\n"
   ]
  },
  {
   "cell_type": "code",
   "execution_count": 2,
   "metadata": {},
   "outputs": [
    {
     "name": "stdout",
     "output_type": "stream",
     "text": [
      "/mnt/host/c/Users/100cgj/OneDrive - Sysco AS/Dokumenter/Hackaton/CLimateHackathon2022/Modelling\n"
     ]
    }
   ],
   "source": [
    "%%bash \n",
    "pwd"
   ]
  },
  {
   "cell_type": "code",
   "execution_count": 3,
   "metadata": {},
   "outputs": [],
   "source": [
    "df = pd.read_parquet('../Process/output_engineering.parquet')"
   ]
  },
  {
   "cell_type": "code",
   "execution_count": 4,
   "metadata": {},
   "outputs": [
    {
     "data": {
      "text/html": [
       "<div>\n",
       "<style scoped>\n",
       "    .dataframe tbody tr th:only-of-type {\n",
       "        vertical-align: middle;\n",
       "    }\n",
       "\n",
       "    .dataframe tbody tr th {\n",
       "        vertical-align: top;\n",
       "    }\n",
       "\n",
       "    .dataframe thead th {\n",
       "        text-align: right;\n",
       "    }\n",
       "</style>\n",
       "<table border=\"1\" class=\"dataframe\">\n",
       "  <thead>\n",
       "    <tr style=\"text-align: right;\">\n",
       "      <th></th>\n",
       "      <th>Location</th>\n",
       "      <th>ad_id</th>\n",
       "      <th>ad_link</th>\n",
       "      <th>ad_type</th>\n",
       "      <th>energy_label</th>\n",
       "      <th>from_year</th>\n",
       "      <th>lat</th>\n",
       "      <th>lon</th>\n",
       "      <th>number_of_bedrooms</th>\n",
       "      <th>owner_type_description</th>\n",
       "      <th>property_type_description</th>\n",
       "      <th>size_from</th>\n",
       "      <th>to_year</th>\n",
       "      <th>type</th>\n",
       "      <th>byggear_cat</th>\n",
       "      <th>ownership_cat</th>\n",
       "      <th>property_type_cat</th>\n",
       "      <th>lat,lon</th>\n",
       "    </tr>\n",
       "  </thead>\n",
       "  <tbody>\n",
       "    <tr>\n",
       "      <th>0</th>\n",
       "      <td>Olsvikåsen 132, Olsvik</td>\n",
       "      <td>261320756</td>\n",
       "      <td>https://www.finn.no/realestate/homes/ad.html?f...</td>\n",
       "      <td>1</td>\n",
       "      <td>5</td>\n",
       "      <td>1979</td>\n",
       "      <td>60.38086</td>\n",
       "      <td>5.22157</td>\n",
       "      <td>1</td>\n",
       "      <td>Andel</td>\n",
       "      <td>Leilighet</td>\n",
       "      <td>47.0</td>\n",
       "      <td>1979</td>\n",
       "      <td>realestate</td>\n",
       "      <td>1</td>\n",
       "      <td>2</td>\n",
       "      <td>1</td>\n",
       "      <td>60.38086,5.22157</td>\n",
       "    </tr>\n",
       "    <tr>\n",
       "      <th>1</th>\n",
       "      <td>Hans Haslums Vei 33, Bekkestua</td>\n",
       "      <td>261047389</td>\n",
       "      <td>https://www.finn.no/realestate/homes/ad.html?f...</td>\n",
       "      <td>1</td>\n",
       "      <td>5</td>\n",
       "      <td>1979</td>\n",
       "      <td>59.91960</td>\n",
       "      <td>10.57280</td>\n",
       "      <td>6</td>\n",
       "      <td>Eier (Selveier)</td>\n",
       "      <td>Enebolig</td>\n",
       "      <td>359.0</td>\n",
       "      <td>1979</td>\n",
       "      <td>realestate</td>\n",
       "      <td>1</td>\n",
       "      <td>1</td>\n",
       "      <td>2</td>\n",
       "      <td>59.9196,10.5728</td>\n",
       "    </tr>\n",
       "    <tr>\n",
       "      <th>2</th>\n",
       "      <td>Oskarbakken 21, Mo i Rana</td>\n",
       "      <td>260995104</td>\n",
       "      <td>https://www.finn.no/realestate/homes/ad.html?f...</td>\n",
       "      <td>1</td>\n",
       "      <td>5</td>\n",
       "      <td>1979</td>\n",
       "      <td>66.29020</td>\n",
       "      <td>14.09350</td>\n",
       "      <td>5</td>\n",
       "      <td>Eier (Selveier)</td>\n",
       "      <td>Enebolig</td>\n",
       "      <td>153.0</td>\n",
       "      <td>1979</td>\n",
       "      <td>realestate</td>\n",
       "      <td>1</td>\n",
       "      <td>1</td>\n",
       "      <td>2</td>\n",
       "      <td>66.2902,14.0935</td>\n",
       "    </tr>\n",
       "    <tr>\n",
       "      <th>3</th>\n",
       "      <td>Sandalssvingen 7, Stavanger</td>\n",
       "      <td>260891920</td>\n",
       "      <td>https://www.finn.no/realestate/homes/ad.html?f...</td>\n",
       "      <td>1</td>\n",
       "      <td>5</td>\n",
       "      <td>1979</td>\n",
       "      <td>58.95740</td>\n",
       "      <td>5.68380</td>\n",
       "      <td>1</td>\n",
       "      <td>Andel</td>\n",
       "      <td>Leilighet</td>\n",
       "      <td>47.0</td>\n",
       "      <td>1979</td>\n",
       "      <td>realestate</td>\n",
       "      <td>1</td>\n",
       "      <td>2</td>\n",
       "      <td>1</td>\n",
       "      <td>58.9574,5.6838</td>\n",
       "    </tr>\n",
       "    <tr>\n",
       "      <th>4</th>\n",
       "      <td>Midtåstunet 8, Førde</td>\n",
       "      <td>260886553</td>\n",
       "      <td>https://www.finn.no/realestate/homes/ad.html?f...</td>\n",
       "      <td>1</td>\n",
       "      <td>5</td>\n",
       "      <td>1979</td>\n",
       "      <td>61.45764</td>\n",
       "      <td>5.90090</td>\n",
       "      <td>3</td>\n",
       "      <td>Andel</td>\n",
       "      <td>Rekkehus</td>\n",
       "      <td>99.0</td>\n",
       "      <td>1979</td>\n",
       "      <td>realestate</td>\n",
       "      <td>1</td>\n",
       "      <td>2</td>\n",
       "      <td>3</td>\n",
       "      <td>61.45764,5.9009</td>\n",
       "    </tr>\n",
       "  </tbody>\n",
       "</table>\n",
       "</div>"
      ],
      "text/plain": [
       "                         Location      ad_id  \\\n",
       "0          Olsvikåsen 132, Olsvik  261320756   \n",
       "1  Hans Haslums Vei 33, Bekkestua  261047389   \n",
       "2       Oskarbakken 21, Mo i Rana  260995104   \n",
       "3     Sandalssvingen 7, Stavanger  260891920   \n",
       "4            Midtåstunet 8, Førde  260886553   \n",
       "\n",
       "                                             ad_link  ad_type  energy_label  \\\n",
       "0  https://www.finn.no/realestate/homes/ad.html?f...        1             5   \n",
       "1  https://www.finn.no/realestate/homes/ad.html?f...        1             5   \n",
       "2  https://www.finn.no/realestate/homes/ad.html?f...        1             5   \n",
       "3  https://www.finn.no/realestate/homes/ad.html?f...        1             5   \n",
       "4  https://www.finn.no/realestate/homes/ad.html?f...        1             5   \n",
       "\n",
       "   from_year       lat       lon  number_of_bedrooms owner_type_description  \\\n",
       "0       1979  60.38086   5.22157                   1                  Andel   \n",
       "1       1979  59.91960  10.57280                   6        Eier (Selveier)   \n",
       "2       1979  66.29020  14.09350                   5        Eier (Selveier)   \n",
       "3       1979  58.95740   5.68380                   1                  Andel   \n",
       "4       1979  61.45764   5.90090                   3                  Andel   \n",
       "\n",
       "  property_type_description  size_from  to_year        type  byggear_cat  \\\n",
       "0                 Leilighet       47.0     1979  realestate            1   \n",
       "1                  Enebolig      359.0     1979  realestate            1   \n",
       "2                  Enebolig      153.0     1979  realestate            1   \n",
       "3                 Leilighet       47.0     1979  realestate            1   \n",
       "4                  Rekkehus       99.0     1979  realestate            1   \n",
       "\n",
       "   ownership_cat  property_type_cat           lat,lon  \n",
       "0              2                  1  60.38086,5.22157  \n",
       "1              1                  2   59.9196,10.5728  \n",
       "2              1                  2   66.2902,14.0935  \n",
       "3              2                  1    58.9574,5.6838  \n",
       "4              2                  3   61.45764,5.9009  "
      ]
     },
     "execution_count": 4,
     "metadata": {},
     "output_type": "execute_result"
    }
   ],
   "source": [
    "df.head()"
   ]
  },
  {
   "cell_type": "code",
   "execution_count": 5,
   "metadata": {},
   "outputs": [
    {
     "data": {
      "text/plain": [
       "Index(['Location', 'ad_id', 'ad_link', 'ad_type', 'energy_label', 'from_year',\n",
       "       'lat', 'lon', 'number_of_bedrooms', 'owner_type_description',\n",
       "       'property_type_description', 'size_from', 'to_year', 'type',\n",
       "       'byggear_cat', 'ownership_cat', 'property_type_cat', 'lat,lon'],\n",
       "      dtype='object')"
      ]
     },
     "execution_count": 5,
     "metadata": {},
     "output_type": "execute_result"
    }
   ],
   "source": [
    "df.columns"
   ]
  },
  {
   "cell_type": "code",
   "execution_count": 6,
   "metadata": {},
   "outputs": [],
   "source": [
    "features = ['byggear_cat','elevation']\n",
    "target= ['energy_label']"
   ]
  },
  {
   "cell_type": "code",
   "execution_count": 7,
   "metadata": {},
   "outputs": [
    {
     "ename": "KeyError",
     "evalue": "\"['elevation'] not in index\"",
     "output_type": "error",
     "traceback": [
      "\u001b[1;31m---------------------------------------------------------------------------\u001b[0m",
      "\u001b[1;31mKeyError\u001b[0m                                  Traceback (most recent call last)",
      "\u001b[1;32m~\\AppData\\Local\\Temp/ipykernel_22324/2537681607.py\u001b[0m in \u001b[0;36m<module>\u001b[1;34m\u001b[0m\n\u001b[1;32m----> 1\u001b[1;33m \u001b[0mX\u001b[0m \u001b[1;33m=\u001b[0m \u001b[0mdf\u001b[0m\u001b[1;33m[\u001b[0m\u001b[0mfeatures\u001b[0m\u001b[1;33m]\u001b[0m\u001b[1;33m\u001b[0m\u001b[1;33m\u001b[0m\u001b[0m\n\u001b[0m\u001b[0;32m      2\u001b[0m \u001b[0my\u001b[0m \u001b[1;33m=\u001b[0m \u001b[0mdf\u001b[0m\u001b[1;33m[\u001b[0m\u001b[0mtarget\u001b[0m\u001b[1;33m]\u001b[0m\u001b[1;33m\u001b[0m\u001b[1;33m\u001b[0m\u001b[0m\n",
      "\u001b[1;32mc:\\Users\\100cgj\\Anaconda3\\lib\\site-packages\\pandas\\core\\frame.py\u001b[0m in \u001b[0;36m__getitem__\u001b[1;34m(self, key)\u001b[0m\n\u001b[0;32m   3509\u001b[0m             \u001b[1;32mif\u001b[0m \u001b[0mis_iterator\u001b[0m\u001b[1;33m(\u001b[0m\u001b[0mkey\u001b[0m\u001b[1;33m)\u001b[0m\u001b[1;33m:\u001b[0m\u001b[1;33m\u001b[0m\u001b[1;33m\u001b[0m\u001b[0m\n\u001b[0;32m   3510\u001b[0m                 \u001b[0mkey\u001b[0m \u001b[1;33m=\u001b[0m \u001b[0mlist\u001b[0m\u001b[1;33m(\u001b[0m\u001b[0mkey\u001b[0m\u001b[1;33m)\u001b[0m\u001b[1;33m\u001b[0m\u001b[1;33m\u001b[0m\u001b[0m\n\u001b[1;32m-> 3511\u001b[1;33m             \u001b[0mindexer\u001b[0m \u001b[1;33m=\u001b[0m \u001b[0mself\u001b[0m\u001b[1;33m.\u001b[0m\u001b[0mcolumns\u001b[0m\u001b[1;33m.\u001b[0m\u001b[0m_get_indexer_strict\u001b[0m\u001b[1;33m(\u001b[0m\u001b[0mkey\u001b[0m\u001b[1;33m,\u001b[0m \u001b[1;34m\"columns\"\u001b[0m\u001b[1;33m)\u001b[0m\u001b[1;33m[\u001b[0m\u001b[1;36m1\u001b[0m\u001b[1;33m]\u001b[0m\u001b[1;33m\u001b[0m\u001b[1;33m\u001b[0m\u001b[0m\n\u001b[0m\u001b[0;32m   3512\u001b[0m \u001b[1;33m\u001b[0m\u001b[0m\n\u001b[0;32m   3513\u001b[0m         \u001b[1;31m# take() does not accept boolean indexers\u001b[0m\u001b[1;33m\u001b[0m\u001b[1;33m\u001b[0m\u001b[0m\n",
      "\u001b[1;32mc:\\Users\\100cgj\\Anaconda3\\lib\\site-packages\\pandas\\core\\indexes\\base.py\u001b[0m in \u001b[0;36m_get_indexer_strict\u001b[1;34m(self, key, axis_name)\u001b[0m\n\u001b[0;32m   5780\u001b[0m             \u001b[0mkeyarr\u001b[0m\u001b[1;33m,\u001b[0m \u001b[0mindexer\u001b[0m\u001b[1;33m,\u001b[0m \u001b[0mnew_indexer\u001b[0m \u001b[1;33m=\u001b[0m \u001b[0mself\u001b[0m\u001b[1;33m.\u001b[0m\u001b[0m_reindex_non_unique\u001b[0m\u001b[1;33m(\u001b[0m\u001b[0mkeyarr\u001b[0m\u001b[1;33m)\u001b[0m\u001b[1;33m\u001b[0m\u001b[1;33m\u001b[0m\u001b[0m\n\u001b[0;32m   5781\u001b[0m \u001b[1;33m\u001b[0m\u001b[0m\n\u001b[1;32m-> 5782\u001b[1;33m         \u001b[0mself\u001b[0m\u001b[1;33m.\u001b[0m\u001b[0m_raise_if_missing\u001b[0m\u001b[1;33m(\u001b[0m\u001b[0mkeyarr\u001b[0m\u001b[1;33m,\u001b[0m \u001b[0mindexer\u001b[0m\u001b[1;33m,\u001b[0m \u001b[0maxis_name\u001b[0m\u001b[1;33m)\u001b[0m\u001b[1;33m\u001b[0m\u001b[1;33m\u001b[0m\u001b[0m\n\u001b[0m\u001b[0;32m   5783\u001b[0m \u001b[1;33m\u001b[0m\u001b[0m\n\u001b[0;32m   5784\u001b[0m         \u001b[0mkeyarr\u001b[0m \u001b[1;33m=\u001b[0m \u001b[0mself\u001b[0m\u001b[1;33m.\u001b[0m\u001b[0mtake\u001b[0m\u001b[1;33m(\u001b[0m\u001b[0mindexer\u001b[0m\u001b[1;33m)\u001b[0m\u001b[1;33m\u001b[0m\u001b[1;33m\u001b[0m\u001b[0m\n",
      "\u001b[1;32mc:\\Users\\100cgj\\Anaconda3\\lib\\site-packages\\pandas\\core\\indexes\\base.py\u001b[0m in \u001b[0;36m_raise_if_missing\u001b[1;34m(self, key, indexer, axis_name)\u001b[0m\n\u001b[0;32m   5843\u001b[0m \u001b[1;33m\u001b[0m\u001b[0m\n\u001b[0;32m   5844\u001b[0m             \u001b[0mnot_found\u001b[0m \u001b[1;33m=\u001b[0m \u001b[0mlist\u001b[0m\u001b[1;33m(\u001b[0m\u001b[0mensure_index\u001b[0m\u001b[1;33m(\u001b[0m\u001b[0mkey\u001b[0m\u001b[1;33m)\u001b[0m\u001b[1;33m[\u001b[0m\u001b[0mmissing_mask\u001b[0m\u001b[1;33m.\u001b[0m\u001b[0mnonzero\u001b[0m\u001b[1;33m(\u001b[0m\u001b[1;33m)\u001b[0m\u001b[1;33m[\u001b[0m\u001b[1;36m0\u001b[0m\u001b[1;33m]\u001b[0m\u001b[1;33m]\u001b[0m\u001b[1;33m.\u001b[0m\u001b[0munique\u001b[0m\u001b[1;33m(\u001b[0m\u001b[1;33m)\u001b[0m\u001b[1;33m)\u001b[0m\u001b[1;33m\u001b[0m\u001b[1;33m\u001b[0m\u001b[0m\n\u001b[1;32m-> 5845\u001b[1;33m             \u001b[1;32mraise\u001b[0m \u001b[0mKeyError\u001b[0m\u001b[1;33m(\u001b[0m\u001b[1;34mf\"{not_found} not in index\"\u001b[0m\u001b[1;33m)\u001b[0m\u001b[1;33m\u001b[0m\u001b[1;33m\u001b[0m\u001b[0m\n\u001b[0m\u001b[0;32m   5846\u001b[0m \u001b[1;33m\u001b[0m\u001b[0m\n\u001b[0;32m   5847\u001b[0m     \u001b[1;33m@\u001b[0m\u001b[0moverload\u001b[0m\u001b[1;33m\u001b[0m\u001b[1;33m\u001b[0m\u001b[0m\n",
      "\u001b[1;31mKeyError\u001b[0m: \"['elevation'] not in index\""
     ]
    }
   ],
   "source": [
    "X = df[features]\n",
    "y = df[target]\n"
   ]
  },
  {
   "cell_type": "code",
   "execution_count": 75,
   "metadata": {},
   "outputs": [],
   "source": [
    "X_train, X_test, y_train, y_test = train_test_split(X,y,random_state = 0)\n",
    "\n",
    "from sklearn.tree import DecisionTreeClassifier\n",
    "dtree_model = DecisionTreeClassifier(max_depth = 2 ).fit(X_train, y_train)\n",
    "y_pred = dtree_model.predict(X_test)"
   ]
  },
  {
   "cell_type": "code",
   "execution_count": 76,
   "metadata": {},
   "outputs": [],
   "source": [
    "cm = confusion_matrix(y_test, y_pred)"
   ]
  },
  {
   "cell_type": "code",
   "execution_count": 77,
   "metadata": {},
   "outputs": [
    {
     "name": "stdout",
     "output_type": "stream",
     "text": [
      "[[  0   0   8   0   0   0   0]\n",
      " [  0   0 110   8   0   3   0]\n",
      " [  0   0 149  60   0   2  19]\n",
      " [  0   0  75 184   0  16  23]\n",
      " [  0   0   3  90   0 111  41]\n",
      " [  0   0   0  31   0 182 143]\n",
      " [  0   0   3   6   0  54 393]]\n"
     ]
    }
   ],
   "source": [
    "print(cm)"
   ]
  },
  {
   "cell_type": "code",
   "execution_count": 78,
   "metadata": {},
   "outputs": [
    {
     "data": {
      "text/plain": [
       "0.5297549591598599"
      ]
     },
     "execution_count": 78,
     "metadata": {},
     "output_type": "execute_result"
    }
   ],
   "source": [
    "from sklearn.metrics import accuracy_score\n",
    "\n",
    "accuracy_score(y_test, y_pred)"
   ]
  },
  {
   "cell_type": "markdown",
   "metadata": {},
   "source": []
  },
  {
   "cell_type": "code",
   "execution_count": null,
   "metadata": {},
   "outputs": [],
   "source": []
  }
 ],
 "metadata": {
  "kernelspec": {
   "display_name": "Python 3.9.7 ('base')",
   "language": "python",
   "name": "python3"
  },
  "language_info": {
   "codemirror_mode": {
    "name": "ipython",
    "version": 3
   },
   "file_extension": ".py",
   "mimetype": "text/x-python",
   "name": "python",
   "nbconvert_exporter": "python",
   "pygments_lexer": "ipython3",
   "version": "3.9.7"
  },
  "orig_nbformat": 4,
  "vscode": {
   "interpreter": {
    "hash": "934da0d35cbf0bb16d74b991bef1ef709e1f5d35bbb7385c6a7d6c715fe29c9c"
   }
  }
 },
 "nbformat": 4,
 "nbformat_minor": 2
}
