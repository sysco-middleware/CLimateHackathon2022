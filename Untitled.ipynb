{
 "cells": [
  {
   "cell_type": "code",
   "execution_count": 10,
   "id": "a74c5bbc",
   "metadata": {},
   "outputs": [],
   "source": [
    "import pandas as pd"
   ]
  },
  {
   "cell_type": "code",
   "execution_count": 11,
   "id": "55b72610",
   "metadata": {},
   "outputs": [],
   "source": [
    "df = pd.read_parquet('./Process/output_engineering.parquet')"
   ]
  },
  {
   "cell_type": "code",
   "execution_count": 12,
   "id": "29a0e199",
   "metadata": {},
   "outputs": [
    {
     "data": {
      "text/html": [
       "<div>\n",
       "<style scoped>\n",
       "    .dataframe tbody tr th:only-of-type {\n",
       "        vertical-align: middle;\n",
       "    }\n",
       "\n",
       "    .dataframe tbody tr th {\n",
       "        vertical-align: top;\n",
       "    }\n",
       "\n",
       "    .dataframe thead th {\n",
       "        text-align: right;\n",
       "    }\n",
       "</style>\n",
       "<table border=\"1\" class=\"dataframe\">\n",
       "  <thead>\n",
       "    <tr style=\"text-align: right;\">\n",
       "      <th></th>\n",
       "      <th>ad_id</th>\n",
       "      <th>lat</th>\n",
       "      <th>lon</th>\n",
       "      <th>byggear_cat</th>\n",
       "      <th>ownership_cat</th>\n",
       "      <th>property_type_cat</th>\n",
       "      <th>energy_label</th>\n",
       "    </tr>\n",
       "  </thead>\n",
       "  <tbody>\n",
       "    <tr>\n",
       "      <th>0</th>\n",
       "      <td>261320756</td>\n",
       "      <td>60.38086</td>\n",
       "      <td>5.22157</td>\n",
       "      <td>1</td>\n",
       "      <td>2</td>\n",
       "      <td>1</td>\n",
       "      <td>5</td>\n",
       "    </tr>\n",
       "    <tr>\n",
       "      <th>1</th>\n",
       "      <td>261047389</td>\n",
       "      <td>59.91960</td>\n",
       "      <td>10.57280</td>\n",
       "      <td>1</td>\n",
       "      <td>1</td>\n",
       "      <td>2</td>\n",
       "      <td>5</td>\n",
       "    </tr>\n",
       "    <tr>\n",
       "      <th>2</th>\n",
       "      <td>260995104</td>\n",
       "      <td>66.29020</td>\n",
       "      <td>14.09350</td>\n",
       "      <td>1</td>\n",
       "      <td>1</td>\n",
       "      <td>2</td>\n",
       "      <td>5</td>\n",
       "    </tr>\n",
       "    <tr>\n",
       "      <th>3</th>\n",
       "      <td>260891920</td>\n",
       "      <td>58.95740</td>\n",
       "      <td>5.68380</td>\n",
       "      <td>1</td>\n",
       "      <td>2</td>\n",
       "      <td>1</td>\n",
       "      <td>5</td>\n",
       "    </tr>\n",
       "    <tr>\n",
       "      <th>4</th>\n",
       "      <td>260886553</td>\n",
       "      <td>61.45764</td>\n",
       "      <td>5.90090</td>\n",
       "      <td>1</td>\n",
       "      <td>2</td>\n",
       "      <td>3</td>\n",
       "      <td>5</td>\n",
       "    </tr>\n",
       "  </tbody>\n",
       "</table>\n",
       "</div>"
      ],
      "text/plain": [
       "       ad_id       lat       lon  byggear_cat  ownership_cat  \\\n",
       "0  261320756  60.38086   5.22157            1              2   \n",
       "1  261047389  59.91960  10.57280            1              1   \n",
       "2  260995104  66.29020  14.09350            1              1   \n",
       "3  260891920  58.95740   5.68380            1              2   \n",
       "4  260886553  61.45764   5.90090            1              2   \n",
       "\n",
       "   property_type_cat  energy_label  \n",
       "0                  1             5  \n",
       "1                  2             5  \n",
       "2                  2             5  \n",
       "3                  1             5  \n",
       "4                  3             5  "
      ]
     },
     "execution_count": 12,
     "metadata": {},
     "output_type": "execute_result"
    }
   ],
   "source": [
    "df.head()"
   ]
  },
  {
   "cell_type": "code",
   "execution_count": 9,
   "id": "721b2a20",
   "metadata": {},
   "outputs": [
    {
     "data": {
      "text/plain": [
       "ad_id                0.036103\n",
       "lat                  0.052552\n",
       "lon                  0.064899\n",
       "byggear_cat         -0.824340\n",
       "ownership_cat        0.067333\n",
       "property_type_cat    0.105853\n",
       "energy_label         1.000000\n",
       "Name: energy_label, dtype: float64"
      ]
     },
     "execution_count": 9,
     "metadata": {},
     "output_type": "execute_result"
    }
   ],
   "source": [
    "df.corr()['energy_label']"
   ]
  },
  {
   "cell_type": "code",
   "execution_count": null,
   "id": "36db92b1",
   "metadata": {},
   "outputs": [],
   "source": []
  }
 ],
 "metadata": {
  "kernelspec": {
   "display_name": "Python 3 (ipykernel)",
   "language": "python",
   "name": "python3"
  },
  "language_info": {
   "codemirror_mode": {
    "name": "ipython",
    "version": 3
   },
   "file_extension": ".py",
   "mimetype": "text/x-python",
   "name": "python",
   "nbconvert_exporter": "python",
   "pygments_lexer": "ipython3",
   "version": "3.8.9"
  }
 },
 "nbformat": 4,
 "nbformat_minor": 5
}
